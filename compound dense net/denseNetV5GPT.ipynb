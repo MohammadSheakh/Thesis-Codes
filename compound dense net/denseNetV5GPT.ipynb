{
 "cells": [
  {
   "cell_type": "code",
   "execution_count": 1,
   "metadata": {},
   "outputs": [],
   "source": [
    "import pandas as pd\n",
    "import numpy as np\n",
    "import os\n",
    "import matplotlib.pyplot as plt\n",
    "from sklearn.model_selection import train_test_split\n",
    "from tensorflow.keras.preprocessing.image import ImageDataGenerator\n",
    "from tensorflow.keras.applications import DenseNet121\n",
    "from tensorflow.keras.models import Model\n",
    "from tensorflow.keras.layers import Dense, GlobalAveragePooling2D, Dropout\n",
    "from tensorflow.keras.optimizers import Adam\n",
    "from tensorflow.keras.callbacks import ReduceLROnPlateau, EarlyStopping\n",
    "from sklearn.metrics import classification_report\n",
    "\n"
   ]
  },
  {
   "cell_type": "code",
   "execution_count": 2,
   "metadata": {},
   "outputs": [],
   "source": [
    "\n",
    "# Paths to the dataset\n",
    "labeled_images_folder = 'D:/New CX/CXR8/images/Dest'  # Adjust this to the actual folder where your images are stored\n",
    "labels_csv = 'D:/New CX/CXR8/Data_Entry_2017_v2020.csv'  # Path to the CSV file containing labels\n",
    "\n",
    "# Load the labels CSV file\n",
    "df = pd.read_csv(labels_csv)\n"
   ]
  },
  {
   "cell_type": "code",
   "execution_count": 3,
   "metadata": {},
   "outputs": [],
   "source": [
    "# Filter the dataframe for the diseases of interest\n",
    "diseases = ['Atelectasis', 'Cardiomegaly', 'Effusion', 'Infiltration', 'Mass', 'Nodule',\n",
    "            'Pneumonia', 'Pneumothorax', 'Consolidation', 'Edema', 'Emphysema', 'Fibrosis',\n",
    "            'Hernia', 'Pleural_Thickening', 'No Finding']\n"
   ]
  },
  {
   "cell_type": "code",
   "execution_count": 4,
   "metadata": {},
   "outputs": [],
   "source": [
    "\n",
    "# Create a new column for single-label classification\n",
    "df['Finding Labels'] = df['Finding Labels'].apply(lambda x: x.split('|')[0] if '|' in x else x)\n"
   ]
  },
  {
   "cell_type": "code",
   "execution_count": 5,
   "metadata": {},
   "outputs": [],
   "source": [
    "# Filter for the diseases of interest\n",
    "df = df[df['Finding Labels'].isin(diseases)]\n"
   ]
  },
  {
   "cell_type": "code",
   "execution_count": 6,
   "metadata": {},
   "outputs": [],
   "source": [
    "\n",
    "# Split the dataset into training, validation, and test sets\n",
    "train_df, temp_df = train_test_split(df, test_size=0.3, stratify=df['Finding Labels'], random_state=42)\n",
    "val_df, test_df = train_test_split(temp_df, test_size=0.67, stratify=temp_df['Finding Labels'], random_state=42)\n"
   ]
  },
  {
   "cell_type": "code",
   "execution_count": 7,
   "metadata": {},
   "outputs": [],
   "source": [
    "\n",
    "# Data generators with augmentation for training, validation, and testing\n",
    "train_datagen = ImageDataGenerator(\n",
    "    rescale=1./255,\n",
    "    shear_range=0.2,\n",
    "    zoom_range=0.2,\n",
    "    horizontal_flip=True,\n",
    "    rotation_range=20,\n",
    "    width_shift_range=0.2,\n",
    "    height_shift_range=0.2,\n",
    "    brightness_range=[0.8, 1.2]\n",
    ")\n",
    "\n",
    "val_datagen = ImageDataGenerator(rescale=1./255)\n",
    "test_datagen = ImageDataGenerator(rescale=1./255)\n",
    "\n"
   ]
  },
  {
   "cell_type": "code",
   "execution_count": 8,
   "metadata": {},
   "outputs": [
    {
     "name": "stdout",
     "output_type": "stream",
     "text": [
      "Found 78484 validated image filenames belonging to 15 classes.\n",
      "Found 11099 validated image filenames belonging to 15 classes.\n",
      "Found 22537 validated image filenames belonging to 15 classes.\n"
     ]
    }
   ],
   "source": [
    "# Flow from dataframe for training, validation, and testing generators\n",
    "train_generator = train_datagen.flow_from_dataframe(\n",
    "    dataframe=train_df,\n",
    "    directory=labeled_images_folder,\n",
    "    x_col='Image Index',\n",
    "    y_col='Finding Labels',\n",
    "    target_size=(192, 192),\n",
    "    batch_size=32,\n",
    "    class_mode='categorical'\n",
    ")\n",
    "\n",
    "validation_generator = val_datagen.flow_from_dataframe(\n",
    "    dataframe=val_df,\n",
    "    directory=labeled_images_folder,\n",
    "    x_col='Image Index',\n",
    "    y_col='Finding Labels',\n",
    "    target_size=(192, 192),\n",
    "    batch_size=32,\n",
    "    class_mode='categorical'\n",
    ")\n",
    "\n",
    "test_generator = test_datagen.flow_from_dataframe(\n",
    "    dataframe=test_df,\n",
    "    directory=labeled_images_folder,\n",
    "    x_col='Image Index',\n",
    "    y_col='Finding Labels',\n",
    "    target_size=(192, 192),\n",
    "    batch_size=32,\n",
    "    class_mode='categorical',\n",
    "    shuffle=False  # Important to keep the order for evaluation\n",
    ")"
   ]
  },
  {
   "cell_type": "code",
   "execution_count": 9,
   "metadata": {},
   "outputs": [],
   "source": [
    "\n",
    "# Load pre-trained DenseNet121\n",
    "base_model = DenseNet121(weights='imagenet', include_top=False, input_shape=(192, 192, 3))\n",
    "\n",
    "# Unfreeze some layers in the base model for fine-tuning\n",
    "for layer in base_model.layers[-30:]:\n",
    "    layer.trainable = True\n",
    "\n",
    "# Add custom layers on top of the base model\n",
    "x = base_model.output\n",
    "x = GlobalAveragePooling2D()(x)\n",
    "x = Dropout(0.5)(x)  # Adding dropout for regularization\n",
    "x = Dense(256, activation='relu')(x) ###################  ################### 512\n",
    "x = Dropout(0.5)(x)  # Adding another dropout layer\n",
    "predictions = Dense(len(diseases), activation='softmax')(x)\n"
   ]
  },
  {
   "cell_type": "code",
   "execution_count": 10,
   "metadata": {},
   "outputs": [],
   "source": [
    "# Define the model\n",
    "model = Model(inputs=base_model.input, outputs=predictions)\n",
    "\n",
    "\n",
    "# Compile the model using Adam optimizer\n",
    "model.compile(optimizer=Adam(learning_rate=0.0001), loss='categorical_crossentropy', metrics=['accuracy'])\n",
    "\n",
    "# Learning rate reduction and early stopping callbacks\n",
    "reduce_lr = ReduceLROnPlateau(monitor='val_loss', factor=0.1, patience=3, min_lr=0.00001, verbose=1)\n",
    "early_stopping = EarlyStopping(monitor='val_loss', patience=7, restore_best_weights=True)\n"
   ]
  },
  {
   "cell_type": "code",
   "execution_count": 11,
   "metadata": {},
   "outputs": [
    {
     "name": "stdout",
     "output_type": "stream",
     "text": [
      "Epoch 1/50\n",
      "2453/2453 [==============================] - 2014s 814ms/step - loss: 1.7321 - accuracy: 0.5248 - val_loss: 1.5480 - val_accuracy: 0.5470 - lr: 1.0000e-04\n",
      "Epoch 2/50\n",
      "2453/2453 [==============================] - 1954s 797ms/step - loss: 1.5931 - accuracy: 0.5423 - val_loss: 1.5072 - val_accuracy: 0.5535 - lr: 1.0000e-04\n",
      "Epoch 3/50\n",
      "2453/2453 [==============================] - 1962s 800ms/step - loss: 1.5466 - accuracy: 0.5462 - val_loss: 1.4531 - val_accuracy: 0.5550 - lr: 1.0000e-04\n",
      "Epoch 4/50\n",
      "2453/2453 [==============================] - 1960s 799ms/step - loss: 1.5176 - accuracy: 0.5483 - val_loss: 1.4672 - val_accuracy: 0.5574 - lr: 1.0000e-04\n",
      "Epoch 5/50\n",
      "2453/2453 [==============================] - 1974s 805ms/step - loss: 1.4959 - accuracy: 0.5527 - val_loss: 1.4335 - val_accuracy: 0.5577 - lr: 1.0000e-04\n",
      "Epoch 6/50\n",
      "2453/2453 [==============================] - 1963s 800ms/step - loss: 1.4780 - accuracy: 0.5536 - val_loss: 1.4244 - val_accuracy: 0.5573 - lr: 1.0000e-04\n",
      "Epoch 7/50\n",
      "2453/2453 [==============================] - 1952s 796ms/step - loss: 1.4591 - accuracy: 0.5563 - val_loss: 1.4145 - val_accuracy: 0.5629 - lr: 1.0000e-04\n",
      "Epoch 8/50\n",
      "2453/2453 [==============================] - 1967s 802ms/step - loss: 1.4436 - accuracy: 0.5601 - val_loss: 1.4573 - val_accuracy: 0.5637 - lr: 1.0000e-04\n",
      "Epoch 9/50\n",
      "2453/2453 [==============================] - 1958s 798ms/step - loss: 1.4332 - accuracy: 0.5596 - val_loss: 1.4121 - val_accuracy: 0.5638 - lr: 1.0000e-04\n",
      "Epoch 10/50\n",
      "2453/2453 [==============================] - 1957s 798ms/step - loss: 1.4256 - accuracy: 0.5620 - val_loss: 1.4034 - val_accuracy: 0.5645 - lr: 1.0000e-04\n",
      "Epoch 11/50\n",
      "2453/2453 [==============================] - 1969s 802ms/step - loss: 1.4112 - accuracy: 0.5648 - val_loss: 1.4277 - val_accuracy: 0.5631 - lr: 1.0000e-04\n",
      "Epoch 12/50\n",
      "2453/2453 [==============================] - 1955s 797ms/step - loss: 1.4028 - accuracy: 0.5628 - val_loss: 1.3944 - val_accuracy: 0.5652 - lr: 1.0000e-04\n",
      "Epoch 13/50\n",
      "2453/2453 [==============================] - 1959s 798ms/step - loss: 1.3959 - accuracy: 0.5647 - val_loss: 1.3797 - val_accuracy: 0.5683 - lr: 1.0000e-04\n",
      "Epoch 14/50\n",
      "2453/2453 [==============================] - 1983s 808ms/step - loss: 1.3900 - accuracy: 0.5672 - val_loss: 1.3832 - val_accuracy: 0.5624 - lr: 1.0000e-04\n",
      "Epoch 15/50\n",
      "2453/2453 [==============================] - 1957s 798ms/step - loss: 1.3778 - accuracy: 0.5694 - val_loss: 1.3933 - val_accuracy: 0.5650 - lr: 1.0000e-04\n",
      "Epoch 16/50\n",
      "2453/2453 [==============================] - ETA: 0s - loss: 1.3674 - accuracy: 0.5693\n",
      "Epoch 16: ReduceLROnPlateau reducing learning rate to 1e-05.\n",
      "2453/2453 [==============================] - 1954s 796ms/step - loss: 1.3674 - accuracy: 0.5693 - val_loss: 1.3872 - val_accuracy: 0.5696 - lr: 1.0000e-04\n",
      "Epoch 17/50\n",
      "2453/2453 [==============================] - 1968s 802ms/step - loss: 1.3343 - accuracy: 0.5760 - val_loss: 1.3576 - val_accuracy: 0.5717 - lr: 1.0000e-05\n",
      "Epoch 18/50\n",
      "2453/2453 [==============================] - 1959s 799ms/step - loss: 1.3195 - accuracy: 0.5791 - val_loss: 1.3550 - val_accuracy: 0.5710 - lr: 1.0000e-05\n",
      "Epoch 19/50\n",
      "2453/2453 [==============================] - 1957s 798ms/step - loss: 1.3124 - accuracy: 0.5833 - val_loss: 1.3523 - val_accuracy: 0.5701 - lr: 1.0000e-05\n",
      "Epoch 20/50\n",
      "2453/2453 [==============================] - 1970s 803ms/step - loss: 1.3069 - accuracy: 0.5822 - val_loss: 1.3593 - val_accuracy: 0.5708 - lr: 1.0000e-05\n",
      "Epoch 21/50\n",
      "2453/2453 [==============================] - 1963s 800ms/step - loss: 1.2988 - accuracy: 0.5833 - val_loss: 1.3643 - val_accuracy: 0.5703 - lr: 1.0000e-05\n",
      "Epoch 22/50\n",
      "2453/2453 [==============================] - 1955s 797ms/step - loss: 1.2913 - accuracy: 0.5864 - val_loss: 1.3589 - val_accuracy: 0.5702 - lr: 1.0000e-05\n",
      "Epoch 23/50\n",
      "2453/2453 [==============================] - 1972s 804ms/step - loss: 1.2914 - accuracy: 0.5866 - val_loss: 1.3686 - val_accuracy: 0.5698 - lr: 1.0000e-05\n",
      "Epoch 24/50\n",
      "2453/2453 [==============================] - 1958s 798ms/step - loss: 1.2895 - accuracy: 0.5874 - val_loss: 1.3618 - val_accuracy: 0.5709 - lr: 1.0000e-05\n",
      "Epoch 25/50\n",
      "2453/2453 [==============================] - 1953s 796ms/step - loss: 1.2852 - accuracy: 0.5884 - val_loss: 1.3594 - val_accuracy: 0.5731 - lr: 1.0000e-05\n",
      "Epoch 26/50\n",
      "2453/2453 [==============================] - 1970s 803ms/step - loss: 1.2819 - accuracy: 0.5885 - val_loss: 1.3596 - val_accuracy: 0.5710 - lr: 1.0000e-05\n"
     ]
    }
   ],
   "source": [
    "\n",
    "# Train the model with increased epochs and callbacks\n",
    "history = model.fit(\n",
    "    train_generator,\n",
    "    steps_per_epoch=len(train_generator),\n",
    "    epochs=50,\n",
    "    validation_data=validation_generator,\n",
    "    validation_steps=len(validation_generator),\n",
    "    callbacks=[reduce_lr, early_stopping]\n",
    ")\n"
   ]
  },
  {
   "cell_type": "code",
   "execution_count": 12,
   "metadata": {},
   "outputs": [
    {
     "name": "stdout",
     "output_type": "stream",
     "text": [
      "705/705 [==============================] - 351s 497ms/step - loss: 1.3508 - accuracy: 0.5741\n",
      "Test Accuracy: 0.5741225481033325\n"
     ]
    }
   ],
   "source": [
    "# Evaluate the model on the test set\n",
    "test_loss, test_acc = model.evaluate(test_generator)\n",
    "print(f\"Test Accuracy: {test_acc}\")\n"
   ]
  },
  {
   "cell_type": "code",
   "execution_count": 13,
   "metadata": {},
   "outputs": [],
   "source": [
    "import numpy as np"
   ]
  },
  {
   "cell_type": "code",
   "execution_count": 14,
   "metadata": {},
   "outputs": [
    {
     "name": "stdout",
     "output_type": "stream",
     "text": [
      "705/705 [==============================] - 260s 366ms/step\n"
     ]
    }
   ],
   "source": [
    "# Predict on the test set\n",
    "test_generator.reset()\n",
    "predictions = model.predict(test_generator)\n",
    "true_labels = test_generator.classes\n",
    "predicted_labels = np.argmax(predictions, axis=1)\n",
    "class_labels = list(test_generator.class_indices.keys())\n",
    "true_labels = [class_labels[i] for i in true_labels]\n",
    "predicted_labels = [class_labels[i] for i in predicted_labels]\n"
   ]
  },
  {
   "cell_type": "code",
   "execution_count": 15,
   "metadata": {},
   "outputs": [
    {
     "name": "stdout",
     "output_type": "stream",
     "text": [
      "                    precision    recall  f1-score   support\n",
      "\n",
      "       Atelectasis       0.43      0.30      0.36      2321\n",
      "      Cardiomegaly       0.42      0.29      0.34       483\n",
      "     Consolidation       0.00      0.00      0.00       669\n",
      "             Edema       0.27      0.15      0.19       375\n",
      "          Effusion       0.36      0.42      0.39      1616\n",
      "         Emphysema       0.39      0.35      0.37       348\n",
      "          Fibrosis       0.00      0.00      0.00       244\n",
      "            Hernia       0.00      0.00      0.00        32\n",
      "      Infiltration       0.34      0.07      0.12      2371\n",
      "              Mass       0.40      0.27      0.32       588\n",
      "        No Finding       0.64      0.89      0.74     12133\n",
      "            Nodule       0.36      0.05      0.08       605\n",
      "Pleural_Thickening       0.00      0.00      0.00       245\n",
      "         Pneumonia       0.00      0.00      0.00        65\n",
      "      Pneumothorax       0.34      0.17      0.23       442\n",
      "\n",
      "          accuracy                           0.57     22537\n",
      "         macro avg       0.26      0.20      0.21     22537\n",
      "      weighted avg       0.50      0.57      0.51     22537\n",
      "\n"
     ]
    },
    {
     "name": "stderr",
     "output_type": "stream",
     "text": [
      "d:\\Application Installed\\anacondaa\\envs\\sheakh310\\lib\\site-packages\\sklearn\\metrics\\_classification.py:1509: UndefinedMetricWarning: Precision is ill-defined and being set to 0.0 in labels with no predicted samples. Use `zero_division` parameter to control this behavior.\n",
      "  _warn_prf(average, modifier, f\"{metric.capitalize()} is\", len(result))\n",
      "d:\\Application Installed\\anacondaa\\envs\\sheakh310\\lib\\site-packages\\sklearn\\metrics\\_classification.py:1509: UndefinedMetricWarning: Precision is ill-defined and being set to 0.0 in labels with no predicted samples. Use `zero_division` parameter to control this behavior.\n",
      "  _warn_prf(average, modifier, f\"{metric.capitalize()} is\", len(result))\n",
      "d:\\Application Installed\\anacondaa\\envs\\sheakh310\\lib\\site-packages\\sklearn\\metrics\\_classification.py:1509: UndefinedMetricWarning: Precision is ill-defined and being set to 0.0 in labels with no predicted samples. Use `zero_division` parameter to control this behavior.\n",
      "  _warn_prf(average, modifier, f\"{metric.capitalize()} is\", len(result))\n"
     ]
    }
   ],
   "source": [
    "# Print a classification report\n",
    "print(classification_report(true_labels, predicted_labels, target_names=class_labels))\n"
   ]
  },
  {
   "cell_type": "code",
   "execution_count": 16,
   "metadata": {},
   "outputs": [
    {
     "data": {
      "image/png": "[encoded data removed]",
      "text/plain": [
       "<Figure size 1200x600 with 2 Axes>"
      ]
     },
     "metadata": {},
     "output_type": "display_data"
    }
   ],
   "source": [
    "# Plot training & validation accuracy values\n",
    "plt.figure(figsize=(12, 6))\n",
    "plt.subplot(1, 2, 1)\n",
    "plt.plot(history.history['accuracy'])\n",
    "plt.plot(history.history['val_accuracy'])\n",
    "plt.title('Model accuracy')\n",
    "plt.ylabel('Accuracy')\n",
    "plt.xlabel('Epoch')\n",
    "plt.legend(['Train', 'Validation'], loc='upper left')\n",
    "# Plot training & validation loss values\n",
    "plt.subplot(1, 2, 2)\n",
    "plt.plot(history.history['loss'])\n",
    "plt.plot(history.history['val_loss'])\n",
    "plt.title('Model loss')\n",
    "plt.ylabel('Loss')\n",
    "plt.xlabel('Epoch')\n",
    "plt.legend(['Train', 'Validation'], loc='upper left')\n",
    "\n",
    "plt.show()\n"
   ]
  },
  {
   "cell_type": "code",
   "execution_count": null,
   "metadata": {},
   "outputs": [],
   "source": []
  },
  {
   "cell_type": "markdown",
   "metadata": {},
   "source": [
    "Achieving higher accuracy in medical image classification tasks like the one you're working on requires careful consideration of several factors including data preprocessing, model architecture, hyperparameter tuning, and potentially using more advanced techniques like transfer learning with fine-tuning. Here's a revised approach to potentially improve your model's accuracy:\n",
    "Steps to Improve Accuracy:\n",
    "\n",
    "    Data Augmentation: Enhance the diversity and quantity of your training data by using more aggressive data augmentation techniques. This helps in generalizing better to unseen data.\n",
    "\n",
    "    Transfer Learning with Fine-tuning: Instead of freezing all layers of DenseNet121, consider fine-tuning some of its top layers along with adding additional dense layers to adapt the model to your specific classification task.\n",
    "\n",
    "    Learning Rate Scheduling: Implement learning rate schedules (e.g., reducing learning rate over epochs) to help the model converge better and potentially avoid local minima.\n",
    "\n",
    "    Increase Training Data Size: If feasible, increase the size of your training dataset. More data often leads to better model generalization.\n",
    "\n",
    "    Experiment with Different Architectures: DenseNet121 is a strong architecture, but you could experiment with other pre-trained models like ResNet, EfficientNet, etc., to see if they perform better for your specific task.\n",
    "\n",
    "    Regularization: Apply regularization techniques such as dropout or L2 regularization to prevent overfitting.Achieving higher accuracy in medical image classification tasks like the one you're working on requires careful consideration of several factors including data preprocessing, model architecture, hyperparameter tuning, and potentially using more advanced techniques like transfer learning with fine-tuning. Here's a revised approach to potentially improve your model's accuracy:\n",
    "Steps to Improve Accuracy:\n",
    "\n",
    "    Data Augmentation: Enhance the diversity and quantity of your training data by using more aggressive data augmentation techniques. This helps in generalizing better to unseen data.\n",
    "\n",
    "    Transfer Learning with Fine-tuning: Instead of freezing all layers of DenseNet121, consider fine-tuning some of its top layers along with adding additional dense layers to adapt the model to your specific classification task.\n",
    "\n",
    "    Learning Rate Scheduling: Implement learning rate schedules (e.g., reducing learning rate over epochs) to help the model converge better and potentially avoid local minima.\n",
    "\n",
    "    Increase Training Data Size: If feasible, increase the size of your training dataset. More data often leads to better model generalization.\n",
    "\n",
    "    Experiment with Different Architectures: DenseNet121 is a strong architecture, but you could experiment with other pre-trained models like ResNet, EfficientNet, etc., to see if they perform better for your specific task.\n",
    "\n",
    "    Regularization: Apply regularization techniques such as dropout or L2 regularization to prevent overfitting."
   ]
  },
  {
   "cell_type": "markdown",
   "metadata": {},
   "source": [
    "Key Modifications:\n",
    "\n",
    "    Data Augmentation: Enhanced data augmentation in the train_datagen to increase the diversity of training images.\n",
    "\n",
    "    Transfer Learning with Fine-tuning: Added a loop to freeze all layers of base_model and unfroze the last few layers for fine-tuning. This step allows the model to adapt better to the specific classification task.\n",
    "\n",
    "    Learning Rate Reduction: Implemented a ReduceLROnPlateau callback to dynamically adjust the learning rate during training, which can help in reaching a better minimum in the loss landscape.\n",
    "\n",
    "    Increased Training Epochs: Increased the number of training epochs to allow the model more time to learn from the augmented data.\n",
    "\n",
    "By incorporating these changes, the model should have a better chance of achieving higher accuracy. Adjust the learning rate (lr), batch size, and other parameters further based on your specific dataset characteristics and computational resources.\n"
   ]
  }
 ],
 "metadata": {
  "kernelspec": {
   "display_name": "THESIS",
   "language": "python",
   "name": "python3"
  },
  "language_info": {
   "codemirror_mode": {
    "name": "ipython",
    "version": 3
   },
   "file_extension": ".py",
   "mimetype": "text/x-python",
   "name": "python",
   "nbconvert_exporter": "python",
   "pygments_lexer": "ipython3",
   "version": "3.10.14"
  }
 },
 "nbformat": 4,
 "nbformat_minor": 2
}
