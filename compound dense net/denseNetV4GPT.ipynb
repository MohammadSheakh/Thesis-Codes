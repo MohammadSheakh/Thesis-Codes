{
 "cells": [
  {
   "cell_type": "code",
   "execution_count": 1,
   "metadata": {},
   "outputs": [],
   "source": [
    "import pandas as pd\n",
    "import os\n",
    "import matplotlib.pyplot as plt\n",
    "from sklearn.model_selection import train_test_split\n",
    "from tensorflow.keras.preprocessing.image import ImageDataGenerator\n",
    "from tensorflow.keras.applications import DenseNet121\n",
    "from tensorflow.keras.models import Model\n",
    "from tensorflow.keras.layers import Dense, GlobalAveragePooling2D\n",
    "from tensorflow.keras.optimizers import SGD\n",
    "from sklearn.metrics import classification_report"
   ]
  },
  {
   "cell_type": "code",
   "execution_count": 2,
   "metadata": {},
   "outputs": [],
   "source": [
    "# Paths to the dataset\n",
    "labeled_images_folder = 'D:/New CX/CXR8/images/Dest'  # Adjust this to the actual folder where your images are stored\n",
    "labels_csv = 'D:/New CX/CXR8/Data_Entry_2017_v2020.csv'  # Path to the CSV file containing labels\n"
   ]
  },
  {
   "cell_type": "code",
   "execution_count": 3,
   "metadata": {},
   "outputs": [],
   "source": [
    "# Load the labels CSV file\n",
    "df = pd.read_csv(labels_csv)\n"
   ]
  },
  {
   "cell_type": "code",
   "execution_count": 4,
   "metadata": {},
   "outputs": [
    {
     "name": "stdout",
     "output_type": "stream",
     "text": [
      "        Image Index          Finding Labels  Follow-up #  Patient ID  \\\n",
      "0  00000001_000.png            Cardiomegaly            0           1   \n",
      "1  00000001_001.png  Cardiomegaly|Emphysema            1           1   \n",
      "2  00000001_002.png   Cardiomegaly|Effusion            2           1   \n",
      "3  00000002_000.png              No Finding            0           2   \n",
      "4  00000003_001.png                  Hernia            0           3   \n",
      "\n",
      "   Patient Age Patient Gender View Position  OriginalImage[Width  Height]  \\\n",
      "0           57              M            PA                 2682     2749   \n",
      "1           58              M            PA                 2894     2729   \n",
      "2           58              M            PA                 2500     2048   \n",
      "3           80              M            PA                 2500     2048   \n",
      "4           74              F            PA                 2500     2048   \n",
      "\n",
      "   OriginalImagePixelSpacing[x     y]  \n",
      "0                        0.143  0.143  \n",
      "1                        0.143  0.143  \n",
      "2                        0.168  0.168  \n",
      "3                        0.171  0.171  \n",
      "4                        0.168  0.168  \n"
     ]
    }
   ],
   "source": [
    "# Display the first few rows of the dataframe to understand its structure\n",
    "print(df.head())\n"
   ]
  },
  {
   "cell_type": "code",
   "execution_count": 5,
   "metadata": {},
   "outputs": [
    {
     "name": "stdout",
     "output_type": "stream",
     "text": [
      "Number of missing files: 0\n",
      "Example missing files: []\n"
     ]
    }
   ],
   "source": [
    "# Verify if the images exist in the folder\n",
    "missing_files = []\n",
    "for img_name in df['Image Index']:\n",
    "    if not os.path.isfile(os.path.join(labeled_images_folder, img_name.strip())):\n",
    "        missing_files.append(img_name)\n",
    "\n",
    "print(f\"Number of missing files: {len(missing_files)}\")\n",
    "print(\"Example missing files:\", missing_files[:10])"
   ]
  },
  {
   "cell_type": "code",
   "execution_count": 6,
   "metadata": {},
   "outputs": [],
   "source": [
    "# Filter the dataframe for the diseases of interest\n",
    "diseases = ['Atelectasis', 'Cardiomegaly', 'Effusion', 'Infiltration', 'Mass', 'Nodule',\n",
    "            'Pneumonia', 'Pneumothorax', 'Consolidation', 'Edema', 'Emphysema', 'Fibrosis',\n",
    "            'Hernia', 'Pleural_Thickening', 'No Finding']\n"
   ]
  },
  {
   "cell_type": "code",
   "execution_count": 7,
   "metadata": {},
   "outputs": [],
   "source": [
    "# Create a new column for single-label classification\n",
    "df['Finding Labels'] = df['Finding Labels'].apply(lambda x: x.split('|')[0] if '|' in x else x)\n"
   ]
  },
  {
   "cell_type": "code",
   "execution_count": 8,
   "metadata": {},
   "outputs": [],
   "source": [
    "# Filter for the diseases of interest\n",
    "df = df[df['Finding Labels'].isin(diseases)]"
   ]
  },
  {
   "cell_type": "code",
   "execution_count": 9,
   "metadata": {},
   "outputs": [],
   "source": [
    "# Count the number of images for each disease class\n",
    "disease_counts = df['Finding Labels'].value_counts()"
   ]
  },
  {
   "cell_type": "code",
   "execution_count": 10,
   "metadata": {},
   "outputs": [
    {
     "name": "stdout",
     "output_type": "stream",
     "text": [
      "        Image Index Finding Labels  Follow-up #  Patient ID  Patient Age  \\\n",
      "0  00000001_000.png   Cardiomegaly            0           1           57   \n",
      "1  00000001_001.png   Cardiomegaly            1           1           58   \n",
      "2  00000001_002.png   Cardiomegaly            2           1           58   \n",
      "3  00000002_000.png     No Finding            0           2           80   \n",
      "4  00000003_001.png         Hernia            0           3           74   \n",
      "\n",
      "  Patient Gender View Position  OriginalImage[Width  Height]  \\\n",
      "0              M            PA                 2682     2749   \n",
      "1              M            PA                 2894     2729   \n",
      "2              M            PA                 2500     2048   \n",
      "3              M            PA                 2500     2048   \n",
      "4              F            PA                 2500     2048   \n",
      "\n",
      "   OriginalImagePixelSpacing[x     y]  \n",
      "0                        0.143  0.143  \n",
      "1                        0.143  0.143  \n",
      "2                        0.168  0.168  \n",
      "3                        0.171  0.171  \n",
      "4                        0.168  0.168  \n"
     ]
    }
   ],
   "source": [
    "# Display the first few rows after filtering\n",
    "print(df.head())"
   ]
  },
  {
   "cell_type": "code",
   "execution_count": 11,
   "metadata": {},
   "outputs": [
    {
     "name": "stdout",
     "output_type": "stream",
     "text": [
      "Finding Labels\n",
      "No Finding            60361\n",
      "Infiltration          11795\n",
      "Atelectasis           11545\n",
      "Effusion               8040\n",
      "Consolidation          3331\n",
      "Nodule                 3009\n",
      "Mass                   2926\n",
      "Cardiomegaly           2404\n",
      "Pneumothorax           2200\n",
      "Edema                  1862\n",
      "Emphysema              1734\n",
      "Pleural_Thickening     1217\n",
      "Fibrosis               1215\n",
      "Pneumonia               325\n",
      "Hernia                  156\n",
      "Name: count, dtype: int64\n"
     ]
    }
   ],
   "source": [
    "# Print the counts\n",
    "print(disease_counts)"
   ]
  },
  {
   "cell_type": "code",
   "execution_count": 12,
   "metadata": {},
   "outputs": [],
   "source": [
    "# Randomize and split the dataset\n",
    "train_df, temp_df = train_test_split(df, test_size=0.3, stratify=df['Finding Labels'], random_state=42)\n",
    "val_df, test_df = train_test_split(temp_df, test_size=0.67, stratify=temp_df['Finding Labels'], random_state=42)\n"
   ]
  },
  {
   "cell_type": "code",
   "execution_count": 13,
   "metadata": {},
   "outputs": [
    {
     "name": "stdout",
     "output_type": "stream",
     "text": [
      "Training set: 78484 samples\n",
      "Validation set: 11099 samples\n",
      "Testing set: 22537 samples\n"
     ]
    }
   ],
   "source": [
    "# Display the distribution\n",
    "print(f\"Training set: {train_df.shape[0]} samples\")\n",
    "print(f\"Validation set: {val_df.shape[0]} samples\")\n",
    "print(f\"Testing set: {test_df.shape[0]} samples\")\n"
   ]
  },
  {
   "cell_type": "code",
   "execution_count": 14,
   "metadata": {},
   "outputs": [
    {
     "name": "stdout",
     "output_type": "stream",
     "text": [
      "Found 78484 validated image filenames belonging to 15 classes.\n",
      "Found 11099 validated image filenames belonging to 15 classes.\n",
      "Found 22537 validated image filenames belonging to 15 classes.\n"
     ]
    }
   ],
   "source": [
    "# Data generator for training, validation, and testing\n",
    "datagen = ImageDataGenerator(rescale=1./255)\n",
    "\n",
    "train_generator = datagen.flow_from_dataframe(\n",
    "    dataframe=train_df,\n",
    "    directory=labeled_images_folder,\n",
    "    x_col='Image Index',\n",
    "    y_col='Finding Labels',\n",
    "    target_size=(128, 128), ############### 224, 224\n",
    "    batch_size=32,\n",
    "    class_mode='categorical'\n",
    ")\n",
    "\n",
    "validation_generator = datagen.flow_from_dataframe(\n",
    "    dataframe=val_df,\n",
    "    directory=labeled_images_folder,\n",
    "    x_col='Image Index',\n",
    "    y_col='Finding Labels',\n",
    "    target_size=(128, 128), ############### 224, 224\n",
    "    batch_size=32,\n",
    "    class_mode='categorical'\n",
    ")\n",
    "\n",
    "test_generator = datagen.flow_from_dataframe(\n",
    "    dataframe=test_df,\n",
    "    directory=labeled_images_folder,\n",
    "    x_col='Image Index',\n",
    "    y_col='Finding Labels',\n",
    "    target_size=(128, 128), ############### 224, 224\n",
    "    batch_size=32,\n",
    "    class_mode='categorical',\n",
    "    shuffle=False  # Important to keep the order for evaluation\n",
    ")\n"
   ]
  },
  {
   "cell_type": "code",
   "execution_count": 15,
   "metadata": {},
   "outputs": [],
   "source": [
    "# Load pre-trained DenseNet121\n",
    "base_model = DenseNet121(weights='imagenet', include_top=False, input_shape=(128, 128, 3))"
   ]
  },
  {
   "cell_type": "code",
   "execution_count": 16,
   "metadata": {},
   "outputs": [],
   "source": [
    "# Add custom layers on top of the base model\n",
    "x = base_model.output\n",
    "x = GlobalAveragePooling2D()(x)\n",
    "x = Dense(1024, activation='relu')(x)\n",
    "predictions = Dense(len(diseases), activation='softmax')(x)"
   ]
  },
  {
   "cell_type": "code",
   "execution_count": 17,
   "metadata": {},
   "outputs": [],
   "source": [
    "# Define the model\n",
    "model = Model(inputs=base_model.input, outputs=predictions)"
   ]
  },
  {
   "cell_type": "code",
   "execution_count": 18,
   "metadata": {},
   "outputs": [
    {
     "name": "stderr",
     "output_type": "stream",
     "text": [
      "d:\\Application Installed\\anacondaa\\envs\\sheakh310\\lib\\site-packages\\keras\\optimizers\\optimizer_v2\\gradient_descent.py:111: UserWarning: The `lr` argument is deprecated, use `learning_rate` instead.\n",
      "  super().__init__(name, **kwargs)\n"
     ]
    }
   ],
   "source": [
    "# Compile the model using SGD\n",
    "model.compile(optimizer=SGD(lr=0.001, momentum=0.9), loss='categorical_crossentropy', metrics=['accuracy'])\n"
   ]
  },
  {
   "cell_type": "code",
   "execution_count": 29,
   "metadata": {},
   "outputs": [
    {
     "name": "stdout",
     "output_type": "stream",
     "text": [
      "Epoch 1/50\n",
      "2453/2453 [==============================] - 1367s 557ms/step - loss: 1.3572 - accuracy: 0.5689 - val_loss: 1.4277 - val_accuracy: 0.5617\n",
      "Epoch 2/50\n",
      "2453/2453 [==============================] - 1324s 540ms/step - loss: 1.3017 - accuracy: 0.5808 - val_loss: 1.4977 - val_accuracy: 0.5506\n",
      "Epoch 3/50\n",
      "2453/2453 [==============================] - 1335s 544ms/step - loss: 1.2403 - accuracy: 0.5940 - val_loss: 1.4575 - val_accuracy: 0.5532\n",
      "Epoch 4/50\n",
      "2453/2453 [==============================] - 1351s 551ms/step - loss: 1.1805 - accuracy: 0.6101 - val_loss: 1.5157 - val_accuracy: 0.5473\n",
      "Epoch 5/50\n",
      "2453/2453 [==============================] - 1334s 544ms/step - loss: 1.1210 - accuracy: 0.6259 - val_loss: 1.5480 - val_accuracy: 0.5384\n",
      "Epoch 6/50\n",
      "2453/2453 [==============================] - 1332s 543ms/step - loss: 1.0541 - accuracy: 0.6468 - val_loss: 1.6462 - val_accuracy: 0.5257\n",
      "Epoch 7/50\n",
      "2453/2453 [==============================] - 1349s 550ms/step - loss: 0.9860 - accuracy: 0.6639 - val_loss: 1.6886 - val_accuracy: 0.5316\n",
      "Epoch 8/50\n",
      "2453/2453 [==============================] - 1331s 543ms/step - loss: 0.9149 - accuracy: 0.6879 - val_loss: 1.7269 - val_accuracy: 0.5191\n",
      "Epoch 9/50\n",
      "2453/2453 [==============================] - 1333s 543ms/step - loss: 0.8402 - accuracy: 0.7117 - val_loss: 1.9441 - val_accuracy: 0.5358\n",
      "Epoch 10/50\n",
      "2453/2453 [==============================] - 1342s 547ms/step - loss: 0.7659 - accuracy: 0.7336 - val_loss: 2.0028 - val_accuracy: 0.5197\n",
      "Epoch 11/50\n",
      "2453/2453 [==============================] - 1312s 535ms/step - loss: 0.6950 - accuracy: 0.7584 - val_loss: 1.9364 - val_accuracy: 0.5024\n",
      "Epoch 12/50\n",
      "2453/2453 [==============================] - 1317s 537ms/step - loss: 0.6217 - accuracy: 0.7811 - val_loss: 2.0567 - val_accuracy: 0.5200\n",
      "Epoch 13/50\n",
      "2453/2453 [==============================] - 1337s 545ms/step - loss: 0.5608 - accuracy: 0.8011 - val_loss: 2.2002 - val_accuracy: 0.4902\n",
      "Epoch 14/50\n",
      "2453/2453 [==============================] - 1317s 537ms/step - loss: 0.5016 - accuracy: 0.8213 - val_loss: 2.2965 - val_accuracy: 0.4804\n",
      "Epoch 15/50\n",
      "2453/2453 [==============================] - 1315s 536ms/step - loss: 0.4434 - accuracy: 0.8420 - val_loss: 2.3911 - val_accuracy: 0.4300\n",
      "Epoch 16/50\n",
      "2453/2453 [==============================] - 1335s 544ms/step - loss: 0.4026 - accuracy: 0.8559 - val_loss: 2.3931 - val_accuracy: 0.4648\n",
      "Epoch 17/50\n",
      "2453/2453 [==============================] - 1319s 538ms/step - loss: 0.3582 - accuracy: 0.8743 - val_loss: 2.5818 - val_accuracy: 0.4187\n",
      "Epoch 18/50\n",
      "2453/2453 [==============================] - 1333s 543ms/step - loss: 0.3178 - accuracy: 0.8889 - val_loss: 2.7701 - val_accuracy: 0.3758\n",
      "Epoch 19/50\n",
      "2453/2453 [==============================] - 1335s 544ms/step - loss: 0.2723 - accuracy: 0.9030 - val_loss: 2.8505 - val_accuracy: 0.4387\n",
      "Epoch 20/50\n",
      "2453/2453 [==============================] - 1314s 536ms/step - loss: 0.2592 - accuracy: 0.9075 - val_loss: 2.8982 - val_accuracy: 0.4782\n",
      "Epoch 21/50\n",
      "2453/2453 [==============================] - 1335s 544ms/step - loss: 0.2281 - accuracy: 0.9198 - val_loss: 2.8644 - val_accuracy: 0.4515\n",
      "Epoch 22/50\n",
      "2453/2453 [==============================] - 1339s 546ms/step - loss: 0.2056 - accuracy: 0.9277 - val_loss: 3.0995 - val_accuracy: 0.5013\n",
      "Epoch 23/50\n",
      "2453/2453 [==============================] - 1316s 537ms/step - loss: 0.1959 - accuracy: 0.9306 - val_loss: 3.0719 - val_accuracy: 0.4903\n",
      "Epoch 24/50\n",
      "2453/2453 [==============================] - 1322s 539ms/step - loss: 0.1772 - accuracy: 0.9380 - val_loss: 3.4632 - val_accuracy: 0.5043\n",
      "Epoch 25/50\n",
      "2453/2453 [==============================] - 1340s 546ms/step - loss: 0.1516 - accuracy: 0.9461 - val_loss: 3.3576 - val_accuracy: 0.5040\n",
      "Epoch 26/50\n",
      "2453/2453 [==============================] - 1318s 537ms/step - loss: 0.1458 - accuracy: 0.9494 - val_loss: 3.3880 - val_accuracy: 0.4639\n",
      "Epoch 27/50\n",
      "2453/2453 [==============================] - 1333s 543ms/step - loss: 0.1445 - accuracy: 0.9496 - val_loss: 3.6277 - val_accuracy: 0.5136\n",
      "Epoch 28/50\n",
      "2453/2453 [==============================] - 1325s 540ms/step - loss: 0.1284 - accuracy: 0.9551 - val_loss: 3.3858 - val_accuracy: 0.4983\n",
      "Epoch 29/50\n",
      "2453/2453 [==============================] - 1305s 532ms/step - loss: 0.1110 - accuracy: 0.9613 - val_loss: 3.6110 - val_accuracy: 0.5058\n",
      "Epoch 30/50\n",
      "2453/2453 [==============================] - 1312s 535ms/step - loss: 0.1015 - accuracy: 0.9648 - val_loss: 3.5630 - val_accuracy: 0.4479\n",
      "Epoch 31/50\n",
      "2453/2453 [==============================] - 1329s 542ms/step - loss: 0.1017 - accuracy: 0.9647 - val_loss: 3.6112 - val_accuracy: 0.4813\n",
      "Epoch 32/50\n",
      "2453/2453 [==============================] - 1309s 534ms/step - loss: 0.0877 - accuracy: 0.9701 - val_loss: 3.7625 - val_accuracy: 0.4827\n",
      "Epoch 33/50\n",
      "2453/2453 [==============================] - 1311s 534ms/step - loss: 0.0813 - accuracy: 0.9721 - val_loss: 3.7461 - val_accuracy: 0.5066\n",
      "Epoch 34/50\n",
      "2453/2453 [==============================] - 1324s 540ms/step - loss: 0.0774 - accuracy: 0.9730 - val_loss: 4.0065 - val_accuracy: 0.4949\n",
      "Epoch 35/50\n",
      "2453/2453 [==============================] - 1309s 533ms/step - loss: 0.0795 - accuracy: 0.9728 - val_loss: 3.9490 - val_accuracy: 0.5173\n",
      "Epoch 36/50\n",
      "2453/2453 [==============================] - 1311s 534ms/step - loss: 0.0771 - accuracy: 0.9730 - val_loss: 3.9568 - val_accuracy: 0.5127\n",
      "Epoch 37/50\n",
      "2453/2453 [==============================] - 1329s 542ms/step - loss: 0.0679 - accuracy: 0.9765 - val_loss: 4.0417 - val_accuracy: 0.4922\n",
      "Epoch 38/50\n",
      "2453/2453 [==============================] - 1309s 534ms/step - loss: 0.0700 - accuracy: 0.9759 - val_loss: 3.7172 - val_accuracy: 0.4591\n",
      "Epoch 39/50\n",
      "2453/2453 [==============================] - 1315s 536ms/step - loss: 0.0632 - accuracy: 0.9783 - val_loss: 3.8849 - val_accuracy: 0.4780\n",
      "Epoch 40/50\n",
      "2453/2453 [==============================] - 1331s 542ms/step - loss: 0.0531 - accuracy: 0.9819 - val_loss: 4.0414 - val_accuracy: 0.5125\n",
      "Epoch 41/50\n",
      "2453/2453 [==============================] - 1306s 532ms/step - loss: 0.0562 - accuracy: 0.9809 - val_loss: 3.9988 - val_accuracy: 0.5077\n",
      "Epoch 42/50\n",
      "2453/2453 [==============================] - 1312s 535ms/step - loss: 0.0569 - accuracy: 0.9800 - val_loss: 3.8649 - val_accuracy: 0.4663\n",
      "Epoch 43/50\n",
      "2453/2453 [==============================] - 1329s 542ms/step - loss: 0.0550 - accuracy: 0.9812 - val_loss: 4.0847 - val_accuracy: 0.4758\n",
      "Epoch 44/50\n",
      "2453/2453 [==============================] - 1297s 529ms/step - loss: 0.0505 - accuracy: 0.9827 - val_loss: 4.0364 - val_accuracy: 0.5010\n",
      "Epoch 45/50\n",
      "2453/2453 [==============================] - 1303s 531ms/step - loss: 0.0458 - accuracy: 0.9844 - val_loss: 4.0849 - val_accuracy: 0.4675\n",
      "Epoch 46/50\n",
      "2453/2453 [==============================] - 1323s 539ms/step - loss: 0.0463 - accuracy: 0.9842 - val_loss: 4.4913 - val_accuracy: 0.4747\n",
      "Epoch 47/50\n",
      "2453/2453 [==============================] - 1297s 529ms/step - loss: 0.0389 - accuracy: 0.9869 - val_loss: 4.1943 - val_accuracy: 0.4927\n",
      "Epoch 48/50\n",
      "2453/2453 [==============================] - 1319s 538ms/step - loss: 0.0336 - accuracy: 0.9885 - val_loss: 4.3615 - val_accuracy: 0.5058\n",
      "Epoch 49/50\n",
      "2453/2453 [==============================] - 1321s 538ms/step - loss: 0.0379 - accuracy: 0.9876 - val_loss: 4.3889 - val_accuracy: 0.4930\n",
      "Epoch 50/50\n",
      "2453/2453 [==============================] - 1300s 530ms/step - loss: 0.0429 - accuracy: 0.9854 - val_loss: 4.3664 - val_accuracy: 0.5023\n"
     ]
    }
   ],
   "source": [
    "# Train the model\n",
    "history = model.fit(\n",
    "    train_generator,\n",
    "    steps_per_epoch=len(train_generator),\n",
    "    epochs=50,\n",
    "    validation_data=validation_generator,\n",
    "    validation_steps=len(validation_generator)\n",
    ")"
   ]
  },
  {
   "cell_type": "code",
   "execution_count": 30,
   "metadata": {},
   "outputs": [
    {
     "name": "stdout",
     "output_type": "stream",
     "text": [
      "705/705 [==============================] - 334s 474ms/step - loss: 4.3584 - accuracy: 0.5010\n",
      "Test Accuracy: 0.5009983777999878\n"
     ]
    }
   ],
   "source": [
    "# Evaluate the model on the test set\n",
    "test_loss, test_acc = model.evaluate(test_generator)\n",
    "print(f\"Test Accuracy: {test_acc}\")\n"
   ]
  },
  {
   "cell_type": "code",
   "execution_count": 31,
   "metadata": {},
   "outputs": [
    {
     "name": "stdout",
     "output_type": "stream",
     "text": [
      "705/705 [==============================] - 253s 358ms/step\n"
     ]
    }
   ],
   "source": [
    "\n",
    "# Predict on the test set\n",
    "test_generator.reset()\n",
    "predictions = model.predict(test_generator)"
   ]
  },
  {
   "cell_type": "code",
   "execution_count": 32,
   "metadata": {},
   "outputs": [],
   "source": [
    "import numpy as np"
   ]
  },
  {
   "cell_type": "code",
   "execution_count": 33,
   "metadata": {},
   "outputs": [],
   "source": [
    "# Get true labels and predicted labels\n",
    "true_labels = test_generator.classes\n",
    "predicted_labels = np.argmax(predictions, axis=1)"
   ]
  },
  {
   "cell_type": "code",
   "execution_count": 34,
   "metadata": {},
   "outputs": [],
   "source": [
    "# Map indices to class labels\n",
    "class_labels = list(test_generator.class_indices.keys())\n",
    "true_labels = [class_labels[i] for i in true_labels]\n",
    "predicted_labels = [class_labels[i] for i in predicted_labels]"
   ]
  },
  {
   "cell_type": "code",
   "execution_count": 35,
   "metadata": {},
   "outputs": [
    {
     "name": "stdout",
     "output_type": "stream",
     "text": [
      "                    precision    recall  f1-score   support\n",
      "\n",
      "       Atelectasis       0.32      0.25      0.28      2321\n",
      "      Cardiomegaly       0.23      0.18      0.20       483\n",
      "     Consolidation       0.11      0.07      0.08       669\n",
      "             Edema       0.14      0.23      0.17       375\n",
      "          Effusion       0.29      0.29      0.29      1616\n",
      "         Emphysema       0.29      0.14      0.19       348\n",
      "          Fibrosis       0.10      0.04      0.05       244\n",
      "            Hernia       0.09      0.03      0.05        32\n",
      "      Infiltration       0.21      0.21      0.21      2371\n",
      "              Mass       0.25      0.20      0.22       588\n",
      "        No Finding       0.66      0.77      0.71     12133\n",
      "            Nodule       0.13      0.03      0.05       605\n",
      "Pleural_Thickening       0.03      0.02      0.02       245\n",
      "         Pneumonia       0.00      0.00      0.00        65\n",
      "      Pneumothorax       0.20      0.07      0.11       442\n",
      "\n",
      "          accuracy                           0.50     22537\n",
      "         macro avg       0.20      0.17      0.18     22537\n",
      "      weighted avg       0.46      0.50      0.48     22537\n",
      "\n"
     ]
    }
   ],
   "source": [
    "# Print a classification report\n",
    "print(classification_report(true_labels, predicted_labels, target_names=class_labels))\n"
   ]
  },
  {
   "cell_type": "code",
   "execution_count": 36,
   "metadata": {},
   "outputs": [
    {
     "data": {
      "text/plain": [
       "<matplotlib.legend.Legend at 0x1a18fb0d9c0>"
      ]
     },
     "execution_count": 36,
     "metadata": {},
     "output_type": "execute_result"
    },
    {
     "data": {
      "image/png": "[encoded data removed]",
      "text/plain": [
       "<Figure size 1200x600 with 1 Axes>"
      ]
     },
     "metadata": {},
     "output_type": "display_data"
    }
   ],
   "source": [
    "# Plot training & validation accuracy values\n",
    "plt.figure(figsize=(12, 6))\n",
    "plt.subplot(1, 2, 1)\n",
    "plt.plot(history.history['accuracy'])\n",
    "plt.plot(history.history['val_accuracy'])\n",
    "plt.title('Model accuracy')\n",
    "plt.ylabel('Accuracy')\n",
    "plt.xlabel('Epoch')\n",
    "plt.legend(['Train', 'Validation'], loc='upper left')"
   ]
  },
  {
   "cell_type": "code",
   "execution_count": 37,
   "metadata": {},
   "outputs": [
    {
     "data": {
      "image/png": "[encoded data removed]",
      "text/plain": [
       "<Figure size 640x480 with 1 Axes>"
      ]
     },
     "metadata": {},
     "output_type": "display_data"
    }
   ],
   "source": [
    "# Plot training & validation loss values\n",
    "plt.subplot(1, 2, 2)\n",
    "plt.plot(history.history['loss'])\n",
    "plt.plot(history.history['val_loss'])\n",
    "plt.title('Model loss')\n",
    "plt.ylabel('Loss')\n",
    "plt.xlabel('Epoch')\n",
    "plt.legend(['Train', 'Validation'], loc='upper left')\n",
    "\n",
    "plt.show()"
   ]
  }
 ],
 "metadata": {
  "kernelspec": {
   "display_name": "THESIS",
   "language": "python",
   "name": "python3"
  },
  "language_info": {
   "codemirror_mode": {
    "name": "ipython",
    "version": 3
   },
   "file_extension": ".py",
   "mimetype": "text/x-python",
   "name": "python",
   "nbconvert_exporter": "python",
   "pygments_lexer": "ipython3",
   "version": "3.10.14"
  }
 },
 "nbformat": 4,
 "nbformat_minor": 2
}
