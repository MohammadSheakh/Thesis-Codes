{
 "cells": [
  {
   "cell_type": "code",
   "execution_count": 1,
   "metadata": {},
   "outputs": [],
   "source": [
    "import numpy as np # linear algebra\n",
    "import pandas as pd # data processing, CSV file I/O (e.g. pd.read_csv)\n",
    "import matplotlib.pyplot as plt\n",
    "import seaborn as sns\n",
    "from glob import glob\n",
    "import os\n",
    "import matplotlib.gridspec as gridspec\n",
    "import matplotlib.ticker as ticker\n",
    "sns.set_style('whitegrid')\n",
    "%matplotlib inline\n",
    "import warnings\n",
    "warnings.filterwarnings('ignore')"
   ]
  },
  {
   "cell_type": "code",
   "execution_count": null,
   "metadata": {},
   "outputs": [],
   "source": [
    "# reading the data\n",
    "data = pd.read_csv(\"E:/A__CVPR/Dataset/bbox/Data_Entry_2017.csv\")\n",
    "data.head()"
   ]
  },
  {
   "cell_type": "code",
   "execution_count": null,
   "metadata": {},
   "outputs": [],
   "source": [
    "print('shape of data : ',data.shape)"
   ]
  },
  {
   "cell_type": "code",
   "execution_count": null,
   "metadata": {},
   "outputs": [],
   "source": [
    "data.describe()"
   ]
  },
  {
   "cell_type": "code",
   "execution_count": null,
   "metadata": {},
   "outputs": [],
   "source": [
    "#drop unused columns\n",
    "data = data[['Image Index','Finding Labels','Follow-up #','Patient ID','Patient Age','Patient Gender']]\n",
    "\n",
    "# removing the rows which have patient_age >100\n",
    "total = len(data)\n",
    "print('No. of rows before removing rows having age >100 : ',len(data))\n",
    "data = data[data['Patient Age']<100]\n",
    "print('No. of rows after removing rows having age >100 : ',len(data))\n",
    "print('No. of datapoints having age > 100 : ',total-len(data))"
   ]
  },
  {
   "cell_type": "code",
   "execution_count": 6,
   "metadata": {},
   "outputs": [],
   "source": [
    "# rows having no. of disease\n",
    "data['Labels_Count'] = data['Finding Labels'].apply(lambda text: len(text.split('|')) if(text != 'No Finding') else 0)"
   ]
  },
  {
   "cell_type": "code",
   "execution_count": null,
   "metadata": {},
   "outputs": [],
   "source": [
    "label_counts = data['Finding Labels'].value_counts()[:15]\n",
    "fig, ax1 = plt.subplots(1,1,figsize = (12, 8))\n",
    "ax1.bar(np.arange(len(label_counts))+0.5, label_counts)\n",
    "ax1.set_xticks(np.arange(len(label_counts))+0.5)\n",
    "_ = ax1.set_xticklabels(label_counts.index, rotation = 90)"
   ]
  },
  {
   "cell_type": "code",
   "execution_count": null,
   "metadata": {},
   "outputs": [],
   "source": [
    "#plt.figure(figsize=(20,15))\n",
    "sns.FacetGrid(data,hue='Patient Gender',size=5).map(sns.distplot,'Patient Age').add_legend()\n",
    "plt.show()"
   ]
  },
  {
   "cell_type": "code",
   "execution_count": null,
   "metadata": {},
   "outputs": [],
   "source": [
    "f, axarr = plt.subplots(7, 2, sharex=True,figsize=(15, 20))\n",
    "pathology_list = ['Cardiomegaly','Emphysema','Effusion','Hernia','Nodule','Pneumothorax','Atelectasis','Pleural_Thickening','Mass','Edema','Consolidation','Infiltration','Fibrosis','Pneumonia']\n",
    "df = data[data['Finding Labels'] != 'No Finding']\n",
    "i=0\n",
    "j=0\n",
    "x=np.arange(0,100,10)\n",
    "for pathology in pathology_list :\n",
    "    index = []\n",
    "    for k in range(len(df)):\n",
    "        if pathology in df.iloc[k]['Finding Labels']:\n",
    "            index.append(k)\n",
    "    g=sns.countplot(x='Patient Age', hue=\"Patient Gender\",data=df.iloc[index], ax=axarr[i, j])\n",
    "    axarr[i, j].set_title(pathology)   \n",
    "    g.set_xlim(0,90)\n",
    "    g.set_xticks(x)\n",
    "    g.set_xticklabels(x)\n",
    "    j=(j+1)%2\n",
    "    if j==0:\n",
    "        i=(i+1)%7\n",
    "f.subplots_adjust(hspace=0.3)"
   ]
  },
  {
   "cell_type": "code",
   "execution_count": 11,
   "metadata": {},
   "outputs": [],
   "source": [
    "for pathology in pathology_list :\n",
    "    data[pathology] = data['Finding Labels'].apply(lambda x: 1 if pathology in x else 0)"
   ]
  },
  {
   "cell_type": "code",
   "execution_count": null,
   "metadata": {},
   "outputs": [],
   "source": [
    "data.head()"
   ]
  },
  {
   "cell_type": "code",
   "execution_count": null,
   "metadata": {},
   "outputs": [],
   "source": [
    "plt.figure(figsize=(15,10))\n",
    "gs = gridspec.GridSpec(8,1)\n",
    "ax1 = plt.subplot(gs[:7, :])\n",
    "ax2 = plt.subplot(gs[7, :])\n",
    "data1 = pd.melt(data,\n",
    "            id_vars=['Patient Gender'],\n",
    "            value_vars = list(pathology_list),\n",
    "            var_name = 'Category',\n",
    "            value_name = 'Count')\n",
    "data1 = data1.loc[data1.Count>0]\n",
    "g=sns.countplot(y='Category',hue='Patient Gender',data=data1, ax=ax1, order = data1['Category'].value_counts().index)\n",
    "ax1.set( ylabel=\"\",xlabel=\"\")\n",
    "ax1.legend(fontsize=20)\n",
    "ax1.set_title('X Ray partition (total number = 121120)',fontsize=18);\n",
    "\n",
    "data['Nothing']=data['Finding Labels'].apply(lambda x: 1 if 'No Finding' in x else 0)\n",
    "\n",
    "data2 = pd.melt(data,\n",
    "            id_vars=['Patient Gender'],\n",
    "            value_vars = list(['Nothing']),\n",
    "            var_name = 'Category',\n",
    "            value_name = 'Count')\n",
    "data2 = data2.loc[data2.Count>0]\n",
    "g=sns.countplot(y='Category',hue='Patient Gender',data=data2,ax=ax2)\n",
    "ax2.set( ylabel=\"\",xlabel=\"Number of decease\")\n",
    "ax2.legend('')\n",
    "plt.subplots_adjust(hspace=.5)"
   ]
  },
  {
   "cell_type": "code",
   "execution_count": 14,
   "metadata": {},
   "outputs": [],
   "source": [
    "df=data.groupby('Finding Labels').count().sort_values('Patient ID',ascending=False)\n",
    "df1=df[['|' in index for index in df.index]].copy()\n",
    "df2=df[['|' not in index for index in df.index]]\n",
    "df2=df2[['No Finding' not in index for index in df2.index]]\n",
    "df2['Finding Labels']=df2.index.values\n",
    "df1['Finding Labels']=df1.index.values"
   ]
  },
  {
   "cell_type": "code",
   "execution_count": null,
   "metadata": {},
   "outputs": [],
   "source": [
    "f, ax = plt.subplots(sharex=True,figsize=(15, 10))\n",
    "sns.set_color_codes(\"pastel\")\n",
    "g=sns.countplot(y='Category',data=data1, ax=ax, order = data1['Category'].value_counts().index,color='b',label=\"Multiple Pathologies\")\n",
    "sns.set_color_codes(\"muted\")\n",
    "g=sns.barplot(x='Patient ID',y='Finding Labels',data=df2, ax=ax, color=\"b\",label=\"Simple Pathology\")\n",
    "ax.legend(ncol=2, loc=\"center right\", frameon=True,fontsize=20)\n",
    "ax.set( ylabel=\"\",xlabel=\"Number of decease\")\n",
    "ax.set_title(\"Comparaison between simple or multiple decease\",fontsize=20)      \n",
    "sns.despine(left=True)"
   ]
  },
  {
   "cell_type": "code",
   "execution_count": null,
   "metadata": {},
   "outputs": [],
   "source": [
    "#we just keep groups of pathologies which appear more than 30 times\n",
    "df3=df1.loc[df1['Patient ID']>30,['Patient ID','Finding Labels']]\n",
    "\n",
    "for pathology in pathology_list:\n",
    "    df3[pathology]=df3.apply(lambda x: x['Patient ID'] if pathology in x['Finding Labels'] else 0, axis=1)\n",
    "\n",
    "df3.head(20)"
   ]
  }
 ],
 "metadata": {
  "kernelspec": {
   "display_name": "sheakh310",
   "language": "python",
   "name": "python3"
  },
  "language_info": {
   "codemirror_mode": {
    "name": "ipython",
    "version": 3
   },
   "file_extension": ".py",
   "mimetype": "text/x-python",
   "name": "python",
   "nbconvert_exporter": "python",
   "pygments_lexer": "ipython3",
   "version": "3.10.14"
  }
 },
 "nbformat": 4,
 "nbformat_minor": 2
}
