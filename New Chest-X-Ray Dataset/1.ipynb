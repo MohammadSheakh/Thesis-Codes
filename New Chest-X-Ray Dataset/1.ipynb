{
 "cells": [
  {
   "cell_type": "code",
   "execution_count": 1,
   "metadata": {},
   "outputs": [],
   "source": [
    "import numpy as np # linear algebra\n",
    "import pandas as pd # data processing, CSV file I/O (e.g. pd.read_csv)\n",
    "import os\n",
    "from glob import glob\n",
    "import matplotlib\n",
    "matplotlib.use('Agg')  # 'Agg' is a non-interactive backend suitable for scripts\n",
    "import matplotlib.pyplot as plt"
   ]
  },
  {
   "cell_type": "code",
   "execution_count": 2,
   "metadata": {},
   "outputs": [
    {
     "name": "stdout",
     "output_type": "stream",
     "text": [
      "Scans found: 112120 , Total Headers 112120\n"
     ]
    },
    {
     "data": {
      "text/html": [
       "<div>\n",
       "<style scoped>\n",
       "    .dataframe tbody tr th:only-of-type {\n",
       "        vertical-align: middle;\n",
       "    }\n",
       "\n",
       "    .dataframe tbody tr th {\n",
       "        vertical-align: top;\n",
       "    }\n",
       "\n",
       "    .dataframe thead th {\n",
       "        text-align: right;\n",
       "    }\n",
       "</style>\n",
       "<table border=\"1\" class=\"dataframe\">\n",
       "  <thead>\n",
       "    <tr style=\"text-align: right;\">\n",
       "      <th></th>\n",
       "      <th>Image Index</th>\n",
       "      <th>Finding Labels</th>\n",
       "      <th>Follow-up #</th>\n",
       "      <th>Patient ID</th>\n",
       "      <th>Patient Age</th>\n",
       "      <th>Patient Gender</th>\n",
       "      <th>View Position</th>\n",
       "      <th>OriginalImage[Width</th>\n",
       "      <th>Height]</th>\n",
       "      <th>OriginalImagePixelSpacing[x</th>\n",
       "      <th>y]</th>\n",
       "      <th>path</th>\n",
       "    </tr>\n",
       "  </thead>\n",
       "  <tbody>\n",
       "    <tr>\n",
       "      <th>40425</th>\n",
       "      <td>00010530_021.png</td>\n",
       "      <td>No Finding</td>\n",
       "      <td>20</td>\n",
       "      <td>10530</td>\n",
       "      <td>37</td>\n",
       "      <td>F</td>\n",
       "      <td>AP</td>\n",
       "      <td>2500</td>\n",
       "      <td>2048</td>\n",
       "      <td>0.168</td>\n",
       "      <td>0.168</td>\n",
       "      <td>D:/New CX/CXR8/images\\00010530_021.png</td>\n",
       "    </tr>\n",
       "    <tr>\n",
       "      <th>78579</th>\n",
       "      <td>00019271_062.png</td>\n",
       "      <td>No Finding</td>\n",
       "      <td>62</td>\n",
       "      <td>19271</td>\n",
       "      <td>54</td>\n",
       "      <td>M</td>\n",
       "      <td>AP</td>\n",
       "      <td>2500</td>\n",
       "      <td>2048</td>\n",
       "      <td>0.168</td>\n",
       "      <td>0.168</td>\n",
       "      <td>D:/New CX/CXR8/images\\00019271_062.png</td>\n",
       "    </tr>\n",
       "    <tr>\n",
       "      <th>76901</th>\n",
       "      <td>00018881_000.png</td>\n",
       "      <td>No Finding</td>\n",
       "      <td>0</td>\n",
       "      <td>18881</td>\n",
       "      <td>58</td>\n",
       "      <td>M</td>\n",
       "      <td>PA</td>\n",
       "      <td>2992</td>\n",
       "      <td>2769</td>\n",
       "      <td>0.143</td>\n",
       "      <td>0.143</td>\n",
       "      <td>D:/New CX/CXR8/images\\00018881_000.png</td>\n",
       "    </tr>\n",
       "  </tbody>\n",
       "</table>\n",
       "</div>"
      ],
      "text/plain": [
       "            Image Index Finding Labels  Follow-up #  Patient ID  Patient Age  \\\n",
       "40425  00010530_021.png     No Finding           20       10530           37   \n",
       "78579  00019271_062.png     No Finding           62       19271           54   \n",
       "76901  00018881_000.png     No Finding            0       18881           58   \n",
       "\n",
       "      Patient Gender View Position  OriginalImage[Width  Height]  \\\n",
       "40425              F            AP                 2500     2048   \n",
       "78579              M            AP                 2500     2048   \n",
       "76901              M            PA                 2992     2769   \n",
       "\n",
       "       OriginalImagePixelSpacing[x     y]  \\\n",
       "40425                        0.168  0.168   \n",
       "78579                        0.168  0.168   \n",
       "76901                        0.143  0.143   \n",
       "\n",
       "                                         path  \n",
       "40425  D:/New CX/CXR8/images\\00010530_021.png  \n",
       "78579  D:/New CX/CXR8/images\\00019271_062.png  \n",
       "76901  D:/New CX/CXR8/images\\00018881_000.png  "
      ]
     },
     "execution_count": 2,
     "metadata": {},
     "output_type": "execute_result"
    }
   ],
   "source": [
    "all_xray_df = pd.read_csv('E:/A__CVPR/Dataset/bbox/Data_Entry_2017_v2020.csv')\n",
    "all_image_paths = {os.path.basename(x): x for x in \n",
    "                glob(os.path.join('D:/New CX/CXR8/images', '*.png'))}\n",
    "print('Scans found:', len(all_image_paths), ', Total Headers', all_xray_df.shape[0])\n",
    "all_xray_df['path'] = all_xray_df['Image Index'].map(all_image_paths.get)\n",
    "all_xray_df['path'] = all_xray_df['Image Index'].map(all_image_paths.get)\n",
    "\n",
    "\n",
    "#all_xray_df['Patient Age'] = all_xray_df['Patient Age'].map(lambda x: int(x[:-1]))\n",
    "all_xray_df.sample(3)"
   ]
  },
  {
   "cell_type": "code",
   "execution_count": 3,
   "metadata": {},
   "outputs": [],
   "source": [
    "label_counts = all_xray_df['Finding Labels'].value_counts()[:15]\n",
    "fig, ax1 = plt.subplots(1,1,figsize = (12, 8))\n",
    "ax1.bar(np.arange(len(label_counts))+0.5, label_counts)\n",
    "ax1.set_xticks(np.arange(len(label_counts))+0.5)\n",
    "_ = ax1.set_xticklabels(label_counts.index, rotation = 90)"
   ]
  },
  {
   "cell_type": "code",
   "execution_count": 4,
   "metadata": {},
   "outputs": [
    {
     "name": "stdout",
     "output_type": "stream",
     "text": [
      "All Labels (14): ['Atelectasis', 'Cardiomegaly', 'Consolidation', 'Edema', 'Effusion', 'Emphysema', 'Fibrosis', 'Hernia', 'Infiltration', 'Mass', 'Nodule', 'Pleural_Thickening', 'Pneumonia', 'Pneumothorax']\n"
     ]
    },
    {
     "data": {
      "text/html": [
       "<div>\n",
       "<style scoped>\n",
       "    .dataframe tbody tr th:only-of-type {\n",
       "        vertical-align: middle;\n",
       "    }\n",
       "\n",
       "    .dataframe tbody tr th {\n",
       "        vertical-align: top;\n",
       "    }\n",
       "\n",
       "    .dataframe thead th {\n",
       "        text-align: right;\n",
       "    }\n",
       "</style>\n",
       "<table border=\"1\" class=\"dataframe\">\n",
       "  <thead>\n",
       "    <tr style=\"text-align: right;\">\n",
       "      <th></th>\n",
       "      <th>Image Index</th>\n",
       "      <th>Finding Labels</th>\n",
       "      <th>Follow-up #</th>\n",
       "      <th>Patient ID</th>\n",
       "      <th>Patient Age</th>\n",
       "      <th>Patient Gender</th>\n",
       "      <th>View Position</th>\n",
       "      <th>OriginalImage[Width</th>\n",
       "      <th>Height]</th>\n",
       "      <th>OriginalImagePixelSpacing[x</th>\n",
       "      <th>...</th>\n",
       "      <th>Effusion</th>\n",
       "      <th>Emphysema</th>\n",
       "      <th>Fibrosis</th>\n",
       "      <th>Hernia</th>\n",
       "      <th>Infiltration</th>\n",
       "      <th>Mass</th>\n",
       "      <th>Nodule</th>\n",
       "      <th>Pleural_Thickening</th>\n",
       "      <th>Pneumonia</th>\n",
       "      <th>Pneumothorax</th>\n",
       "    </tr>\n",
       "  </thead>\n",
       "  <tbody>\n",
       "    <tr>\n",
       "      <th>34769</th>\n",
       "      <td>00009168_003.png</td>\n",
       "      <td></td>\n",
       "      <td>3</td>\n",
       "      <td>9168</td>\n",
       "      <td>43</td>\n",
       "      <td>F</td>\n",
       "      <td>AP</td>\n",
       "      <td>2500</td>\n",
       "      <td>2048</td>\n",
       "      <td>0.168</td>\n",
       "      <td>...</td>\n",
       "      <td>0.0</td>\n",
       "      <td>0.0</td>\n",
       "      <td>0.0</td>\n",
       "      <td>0.0</td>\n",
       "      <td>0.0</td>\n",
       "      <td>0.0</td>\n",
       "      <td>0.0</td>\n",
       "      <td>0.0</td>\n",
       "      <td>0.0</td>\n",
       "      <td>0.0</td>\n",
       "    </tr>\n",
       "    <tr>\n",
       "      <th>9485</th>\n",
       "      <td>00002464_000.png</td>\n",
       "      <td>Emphysema</td>\n",
       "      <td>0</td>\n",
       "      <td>2464</td>\n",
       "      <td>52</td>\n",
       "      <td>F</td>\n",
       "      <td>AP</td>\n",
       "      <td>2500</td>\n",
       "      <td>2048</td>\n",
       "      <td>0.168</td>\n",
       "      <td>...</td>\n",
       "      <td>0.0</td>\n",
       "      <td>1.0</td>\n",
       "      <td>0.0</td>\n",
       "      <td>0.0</td>\n",
       "      <td>0.0</td>\n",
       "      <td>0.0</td>\n",
       "      <td>0.0</td>\n",
       "      <td>0.0</td>\n",
       "      <td>0.0</td>\n",
       "      <td>0.0</td>\n",
       "    </tr>\n",
       "    <tr>\n",
       "      <th>41857</th>\n",
       "      <td>00010790_033.png</td>\n",
       "      <td></td>\n",
       "      <td>33</td>\n",
       "      <td>10790</td>\n",
       "      <td>55</td>\n",
       "      <td>F</td>\n",
       "      <td>AP</td>\n",
       "      <td>2500</td>\n",
       "      <td>2048</td>\n",
       "      <td>0.168</td>\n",
       "      <td>...</td>\n",
       "      <td>0.0</td>\n",
       "      <td>0.0</td>\n",
       "      <td>0.0</td>\n",
       "      <td>0.0</td>\n",
       "      <td>0.0</td>\n",
       "      <td>0.0</td>\n",
       "      <td>0.0</td>\n",
       "      <td>0.0</td>\n",
       "      <td>0.0</td>\n",
       "      <td>0.0</td>\n",
       "    </tr>\n",
       "  </tbody>\n",
       "</table>\n",
       "<p>3 rows × 26 columns</p>\n",
       "</div>"
      ],
      "text/plain": [
       "            Image Index Finding Labels  Follow-up #  Patient ID  Patient Age  \\\n",
       "34769  00009168_003.png                           3        9168           43   \n",
       "9485   00002464_000.png      Emphysema            0        2464           52   \n",
       "41857  00010790_033.png                          33       10790           55   \n",
       "\n",
       "      Patient Gender View Position  OriginalImage[Width  Height]  \\\n",
       "34769              F            AP                 2500     2048   \n",
       "9485               F            AP                 2500     2048   \n",
       "41857              F            AP                 2500     2048   \n",
       "\n",
       "       OriginalImagePixelSpacing[x  ...  Effusion Emphysema  Fibrosis  Hernia  \\\n",
       "34769                        0.168  ...       0.0       0.0       0.0     0.0   \n",
       "9485                         0.168  ...       0.0       1.0       0.0     0.0   \n",
       "41857                        0.168  ...       0.0       0.0       0.0     0.0   \n",
       "\n",
       "       Infiltration  Mass  Nodule  Pleural_Thickening  Pneumonia  Pneumothorax  \n",
       "34769           0.0   0.0     0.0                 0.0        0.0           0.0  \n",
       "9485            0.0   0.0     0.0                 0.0        0.0           0.0  \n",
       "41857           0.0   0.0     0.0                 0.0        0.0           0.0  \n",
       "\n",
       "[3 rows x 26 columns]"
      ]
     },
     "execution_count": 4,
     "metadata": {},
     "output_type": "execute_result"
    }
   ],
   "source": [
    "all_xray_df['Finding Labels'] = all_xray_df['Finding Labels'].map(lambda x: x.replace('No Finding', ''))\n",
    "from itertools import chain\n",
    "all_labels = np.unique(list(chain(*all_xray_df['Finding Labels'].map(lambda x: x.split('|')).tolist())))\n",
    "all_labels = [x for x in all_labels if len(x)>0]\n",
    "print('All Labels ({}): {}'.format(len(all_labels), all_labels))\n",
    "for c_label in all_labels:\n",
    "    if len(c_label)>1: # leave out empty labels\n",
    "        all_xray_df[c_label] = all_xray_df['Finding Labels'].map(lambda finding: 1.0 if c_label in finding else 0)\n",
    "all_xray_df.sample(3)"
   ]
  },
  {
   "cell_type": "code",
   "execution_count": 5,
   "metadata": {},
   "outputs": [
    {
     "data": {
      "text/plain": [
       "['Atelectasis',\n",
       " 'Cardiomegaly',\n",
       " 'Consolidation',\n",
       " 'Edema',\n",
       " 'Effusion',\n",
       " 'Emphysema',\n",
       " 'Fibrosis',\n",
       " 'Hernia',\n",
       " 'Infiltration',\n",
       " 'Mass',\n",
       " 'Nodule',\n",
       " 'Pleural_Thickening',\n",
       " 'Pneumonia',\n",
       " 'Pneumothorax']"
      ]
     },
     "execution_count": 5,
     "metadata": {},
     "output_type": "execute_result"
    }
   ],
   "source": [
    "all_labels"
   ]
  },
  {
   "cell_type": "code",
   "execution_count": 6,
   "metadata": {},
   "outputs": [
    {
     "name": "stdout",
     "output_type": "stream",
     "text": [
      "Clean Labels (13) [('Atelectasis', 11559), ('Cardiomegaly', 2776), ('Consolidation', 4667), ('Edema', 2303), ('Effusion', 13317), ('Emphysema', 2516), ('Fibrosis', 1686), ('Infiltration', 19894), ('Mass', 5782), ('Nodule', 6331), ('Pleural_Thickening', 3385), ('Pneumonia', 1431), ('Pneumothorax', 5302)]\n"
     ]
    }
   ],
   "source": [
    "# keep at least 1000 cases\n",
    "MIN_CASES = 1000\n",
    "all_labels = [c_label for c_label in all_labels if all_xray_df[c_label].sum()>MIN_CASES]\n",
    "print('Clean Labels ({})'.format(len(all_labels)), \n",
    "      [(c_label,int(all_xray_df[c_label].sum())) for c_label in all_labels])"
   ]
  },
  {
   "cell_type": "code",
   "execution_count": 7,
   "metadata": {},
   "outputs": [],
   "source": [
    "# since the dataset is very unbiased, we can resample it to be a more reasonable collection\n",
    "# weight is 0.1 + number of findings\n",
    "sample_weights = all_xray_df['Finding Labels'].map(lambda x: len(x.split('|')) if len(x)>0 else 0).values + 4e-2\n",
    "sample_weights /= sample_weights.sum()\n",
    "all_xray_df = all_xray_df.sample(40000, weights=sample_weights)\n",
    "\n",
    "label_counts = all_xray_df['Finding Labels'].value_counts()[:15]\n",
    "fig, ax1 = plt.subplots(1,1,figsize = (12, 8))\n",
    "ax1.bar(np.arange(len(label_counts))+0.5, label_counts)\n",
    "ax1.set_xticks(np.arange(len(label_counts))+0.5)\n",
    "_ = ax1.set_xticklabels(label_counts.index, rotation = 90)"
   ]
  },
  {
   "cell_type": "code",
   "execution_count": 8,
   "metadata": {},
   "outputs": [],
   "source": [
    "label_counts = 100*np.mean(all_xray_df[all_labels].values,0)\n",
    "fig, ax1 = plt.subplots(1,1,figsize = (12, 8))\n",
    "ax1.bar(np.arange(len(label_counts))+0.5, label_counts)\n",
    "ax1.set_xticks(np.arange(len(label_counts))+0.5)\n",
    "ax1.set_xticklabels(all_labels, rotation = 90)\n",
    "ax1.set_title('Adjusted Frequency of Diseases in Patient Group')\n",
    "_ = ax1.set_ylabel('Frequency (%)')"
   ]
  },
  {
   "cell_type": "code",
   "execution_count": 9,
   "metadata": {},
   "outputs": [],
   "source": [
    "all_xray_df['disease_vec'] = all_xray_df.apply(lambda x: [x[all_labels].values], 1).map(lambda x: x[0])"
   ]
  },
  {
   "cell_type": "code",
   "execution_count": 10,
   "metadata": {},
   "outputs": [
    {
     "name": "stdout",
     "output_type": "stream",
     "text": [
      "train 30000 validation 10000\n"
     ]
    }
   ],
   "source": [
    "from sklearn.model_selection import train_test_split\n",
    "train_df, valid_df = train_test_split(all_xray_df, \n",
    "                                  test_size = 0.25, \n",
    "                                  random_state = 2018,\n",
    "                                  stratify = all_xray_df['Finding Labels'].map(lambda x: x[:4]))\n",
    "print('train', train_df.shape[0], 'validation', valid_df.shape[0])"
   ]
  },
  {
   "cell_type": "code",
   "execution_count": 11,
   "metadata": {},
   "outputs": [],
   "source": [
    "valid_df['newLabel'] = valid_df.apply(lambda x: x['Finding Labels'].split('|'), axis=1)\n",
    "train_df['newLabel'] = train_df.apply(lambda x: x['Finding Labels'].split('|'), axis=1)"
   ]
  },
  {
   "cell_type": "code",
   "execution_count": 12,
   "metadata": {},
   "outputs": [],
   "source": [
    "from tensorflow.keras.preprocessing.image import ImageDataGenerator\n",
    "\n",
    "IMG_SIZE = (128, 128)\n",
    "core_idg = ImageDataGenerator(samplewise_center=True, \n",
    "                              samplewise_std_normalization=True, \n",
    "                              horizontal_flip=True, \n",
    "                              vertical_flip=False, \n",
    "                              height_shift_range=0.05, \n",
    "                              width_shift_range=0.1, \n",
    "                              rotation_range=5, \n",
    "                              shear_range=0.1,\n",
    "                              fill_mode='reflect',\n",
    "                              zoom_range=0.15)\n"
   ]
  },
  {
   "cell_type": "code",
   "execution_count": 13,
   "metadata": {},
   "outputs": [
    {
     "name": "stdout",
     "output_type": "stream",
     "text": [
      "Found 28280 validated image filenames belonging to 13 classes.\n",
      "Found 9432 validated image filenames belonging to 13 classes.\n",
      "Found 9432 validated image filenames belonging to 13 classes.\n"
     ]
    }
   ],
   "source": [
    "train_gen = core_idg.flow_from_dataframe(dataframe=train_df, \n",
    "                            directory=None,\n",
    "                            x_col = 'path',\n",
    "                            y_col = 'newLabel', \n",
    "                            class_mode = 'categorical',\n",
    "                            classes = all_labels,\n",
    "                            target_size = IMG_SIZE,\n",
    "                            color_mode = 'grayscale',\n",
    "                            batch_size = 32)\n",
    "\n",
    "valid_gen = core_idg.flow_from_dataframe(dataframe=valid_df, \n",
    "                            directory=None,\n",
    "                            x_col = 'path',\n",
    "                            y_col = 'newLabel', \n",
    "                            class_mode = 'categorical',\n",
    "                            classes = all_labels,\n",
    "                            target_size = IMG_SIZE,\n",
    "                            color_mode = 'grayscale',\n",
    "                            batch_size = 256) # we can use much larger batches for evaluation\n",
    "\n",
    "test_X, test_Y = next(core_idg.flow_from_dataframe(dataframe=valid_df, \n",
    "                            directory=None,\n",
    "                            x_col = 'path',\n",
    "                            y_col = 'newLabel', \n",
    "                            class_mode = 'categorical',\n",
    "                            classes = all_labels,\n",
    "                            target_size = IMG_SIZE,\n",
    "                            color_mode = 'grayscale',\n",
    "                            batch_size = 1024))"
   ]
  },
  {
   "cell_type": "code",
   "execution_count": 14,
   "metadata": {},
   "outputs": [],
   "source": [
    "t_x, t_y = next(train_gen)\n",
    "fig, m_axs = plt.subplots(4, 4, figsize = (16, 16))\n",
    "for (c_x, c_y, c_ax) in zip(t_x, t_y, m_axs.flatten()):\n",
    "    c_ax.imshow(c_x[:,:,0], cmap = 'bone', vmin = -1.5, vmax = 1.5)\n",
    "    c_ax.set_title(', '.join([n_class for n_class, n_score in zip(all_labels, c_y) \n",
    "                            if n_score>0.5]))\n",
    "    c_ax.axis('off')"
   ]
  },
  {
   "cell_type": "code",
   "execution_count": 15,
   "metadata": {},
   "outputs": [
    {
     "name": "stdout",
     "output_type": "stream",
     "text": [
      "Model: \"sequential\"\n",
      "_________________________________________________________________\n",
      " Layer (type)                Output Shape              Param #   \n",
      "=================================================================\n",
      " mobilenet_1.00_128 (Functio  (None, 4, 4, 1024)       3228288   \n",
      " nal)                                                            \n",
      "                                                                 \n",
      " global_average_pooling2d (G  (None, 1024)             0         \n",
      " lobalAveragePooling2D)                                          \n",
      "                                                                 \n",
      " dropout (Dropout)           (None, 1024)              0         \n",
      "                                                                 \n",
      " dense (Dense)               (None, 512)               524800    \n",
      "                                                                 \n",
      " dropout_1 (Dropout)         (None, 512)               0         \n",
      "                                                                 \n",
      " dense_1 (Dense)             (None, 13)                6669      \n",
      "                                                                 \n",
      "=================================================================\n",
      "Total params: 3,759,757\n",
      "Trainable params: 3,737,869\n",
      "Non-trainable params: 21,888\n",
      "_________________________________________________________________\n"
     ]
    }
   ],
   "source": [
    "from keras.applications.mobilenet import MobileNet\n",
    "from keras.layers import GlobalAveragePooling2D, Dense, Dropout, Flatten\n",
    "from keras.models import Sequential\n",
    "from keras import optimizers, callbacks, regularizers\n",
    "base_mobilenet_model = MobileNet(input_shape =  t_x.shape[1:], \n",
    "                                include_top = False, weights = None)\n",
    "multi_disease_model = Sequential()\n",
    "multi_disease_model.add(base_mobilenet_model)\n",
    "multi_disease_model.add(GlobalAveragePooling2D())\n",
    "multi_disease_model.add(Dropout(0.5))\n",
    "multi_disease_model.add(Dense(512))\n",
    "multi_disease_model.add(Dropout(0.5))\n",
    "multi_disease_model.add(Dense(len(all_labels), activation = 'sigmoid'))\n",
    "multi_disease_model.compile(optimizer = 'adam', loss = 'binary_crossentropy',\n",
    "                          metrics = ['binary_accuracy', 'mae'])\n",
    "multi_disease_model.summary()"
   ]
  },
  {
   "cell_type": "code",
   "execution_count": 16,
   "metadata": {},
   "outputs": [],
   "source": [
    "from keras.callbacks import ModelCheckpoint, LearningRateScheduler, EarlyStopping, ReduceLROnPlateau\n",
    "\n",
    "# Modify the weight path to end with `.weights.h5`\n",
    "weight_path = \"{}_weights.best.weights.h5\".format('xray_class')\n",
    "\n",
    "checkpoint = ModelCheckpoint(weight_path, monitor='val_loss', verbose=1, \n",
    "                            save_best_only=True, mode='min', save_weights_only=True)\n",
    "\n",
    "early = EarlyStopping(monitor=\"val_loss\", \n",
    "                      mode=\"min\", \n",
    "                      patience=5)\n",
    "\n",
    "callbacks_list = [checkpoint, early]\n"
   ]
  },
  {
   "cell_type": "code",
   "execution_count": 17,
   "metadata": {},
   "outputs": [
    {
     "name": "stdout",
     "output_type": "stream",
     "text": [
      "100/100 [==============================] - ETA: 0s - loss: 0.4651 - binary_accuracy: 0.8415 - mae: 0.2094\n",
      "Epoch 1: val_loss improved from inf to 0.36253, saving model to xray_class_weights.best.weights.h5\n",
      "100/100 [==============================] - 68s 548ms/step - loss: 0.4651 - binary_accuracy: 0.8415 - mae: 0.2094 - val_loss: 0.3625 - val_binary_accuracy: 0.8673 - val_mae: 0.2446\n"
     ]
    },
    {
     "data": {
      "text/plain": [
       "<keras.callbacks.History at 0x2409ea2f9d0>"
      ]
     },
     "execution_count": 17,
     "metadata": {},
     "output_type": "execute_result"
    }
   ],
   "source": [
    "multi_disease_model.fit(train_gen, \n",
    "                        steps_per_epoch=100,\n",
    "                        validation_data=(test_X, test_Y), \n",
    "                        epochs=1, \n",
    "                        callbacks=callbacks_list)\n"
   ]
  },
  {
   "cell_type": "code",
   "execution_count": 18,
   "metadata": {},
   "outputs": [
    {
     "name": "stdout",
     "output_type": "stream",
     "text": [
      "Atelectasis: 25.00%\n",
      "Cardiomegaly: 5.27%\n",
      "Consolidation: 11.91%\n",
      "Edema: 4.98%\n",
      "Effusion: 30.27%\n",
      "Emphysema: 4.69%\n",
      "Fibrosis: 3.12%\n",
      "Infiltration: 40.04%\n",
      "Mass: 11.82%\n",
      "Nodule: 14.16%\n",
      "Pleural_Thickening: 6.45%\n",
      "Pneumonia: 1.76%\n",
      "Pneumothorax: 12.99%\n"
     ]
    }
   ],
   "source": [
    "for c_label, s_count in zip(all_labels, 100*np.mean(test_Y,0)):\n",
    "    print('%s: %2.2f%%' % (c_label, s_count))"
   ]
  },
  {
   "cell_type": "code",
   "execution_count": 19,
   "metadata": {},
   "outputs": [
    {
     "name": "stdout",
     "output_type": "stream",
     "text": [
      "32/32 [==============================] - 1s 14ms/step\n"
     ]
    }
   ],
   "source": [
    "pred_Y = multi_disease_model.predict(test_X, batch_size = 32, verbose = True)"
   ]
  },
  {
   "cell_type": "code",
   "execution_count": 20,
   "metadata": {},
   "outputs": [
    {
     "name": "stderr",
     "output_type": "stream",
     "text": [
      "C:\\Users\\Mohammad Sheakh\\AppData\\Local\\Temp\\ipykernel_11164\\3785646183.py:18: UserWarning: FigureCanvasAgg is non-interactive, and thus cannot be shown\n",
      "  plt.show()\n"
     ]
    }
   ],
   "source": [
    "from sklearn.metrics import roc_curve, auc\n",
    "import matplotlib.pyplot as plt\n",
    "\n",
    "fig, c_ax = plt.subplots(1, 1, figsize=(9, 9))\n",
    "\n",
    "# Ensure all_labels is defined and contains the class labels\n",
    "for (idx, c_label) in enumerate(all_labels):\n",
    "    # Ensure test_Y and pred_Y are correctly shaped and formatted\n",
    "    fpr, tpr, thresholds = roc_curve(test_Y[:, idx].astype(int), pred_Y[:, idx])\n",
    "    c_ax.plot(fpr, tpr, label='%s (AUC:%0.2f)' % (c_label, auc(fpr, tpr)))\n",
    "\n",
    "c_ax.legend()\n",
    "c_ax.set_xlabel('False Positive Rate')\n",
    "c_ax.set_ylabel('True Positive Rate')\n",
    "\n",
    "# Save and display the plot\n",
    "fig.savefig('barely_trained_net.png')\n",
    "plt.show()\n"
   ]
  },
  {
   "cell_type": "code",
   "execution_count": 21,
   "metadata": {},
   "outputs": [],
   "source": [
    "optimizers_list = [('sgd', optimizers.SGD(learning_rate=0.1)),\n",
    "                  ('sgd_momentum', optimizers.SGD(learning_rate=0.1, momentum=0.9)),\n",
    "                  ('adagrad', optimizers.Adagrad()),\n",
    "                  ('adadelta', optimizers.Adadelta()),\n",
    "                  ('adam', optimizers.Adam())]\n",
    "\n",
    "early = EarlyStopping(monitor=\"val_loss\", \n",
    "                      mode=\"min\", \n",
    "                      patience=5)\n",
    "callbacks_list = [early]\n"
   ]
  },
  {
   "cell_type": "code",
   "execution_count": 22,
   "metadata": {},
   "outputs": [
    {
     "name": "stderr",
     "output_type": "stream",
     "text": [
      "C:\\Users\\Mohammad Sheakh\\AppData\\Local\\Temp\\ipykernel_11164\\1089579743.py:1: UserWarning: `Model.fit_generator` is deprecated and will be removed in a future version. Please use `Model.fit`, which supports generators.\n",
      "  multi_disease_model.fit_generator(train_gen,\n"
     ]
    },
    {
     "name": "stdout",
     "output_type": "stream",
     "text": [
      "Epoch 1/100\n",
      "100/100 [==============================] - 48s 477ms/step - loss: 0.3834 - binary_accuracy: 0.8580 - mae: 0.2081 - val_loss: 0.3926 - val_binary_accuracy: 0.8673 - val_mae: 0.1636\n",
      "Epoch 2/100\n",
      "100/100 [==============================] - 46s 456ms/step - loss: 0.3606 - binary_accuracy: 0.8649 - mae: 0.2053 - val_loss: 0.4356 - val_binary_accuracy: 0.8673 - val_mae: 0.1503\n",
      "Epoch 3/100\n",
      "100/100 [==============================] - 45s 446ms/step - loss: 0.3604 - binary_accuracy: 0.8622 - mae: 0.2090 - val_loss: 0.4421 - val_binary_accuracy: 0.8673 - val_mae: 0.1536\n",
      "Epoch 4/100\n",
      "100/100 [==============================] - 43s 433ms/step - loss: 0.3536 - binary_accuracy: 0.8639 - mae: 0.2076 - val_loss: 0.4320 - val_binary_accuracy: 0.8673 - val_mae: 0.1524\n",
      "Epoch 5/100\n",
      "100/100 [==============================] - 42s 422ms/step - loss: 0.3455 - binary_accuracy: 0.8657 - mae: 0.2038 - val_loss: 0.3851 - val_binary_accuracy: 0.8673 - val_mae: 0.1637\n",
      "Epoch 6/100\n",
      "100/100 [==============================] - 42s 418ms/step - loss: 0.3502 - binary_accuracy: 0.8657 - mae: 0.2058 - val_loss: 0.3549 - val_binary_accuracy: 0.8666 - val_mae: 0.1826\n",
      "Epoch 7/100\n",
      "100/100 [==============================] - 41s 411ms/step - loss: 0.3403 - binary_accuracy: 0.8679 - mae: 0.2019 - val_loss: 0.3453 - val_binary_accuracy: 0.8566 - val_mae: 0.1977\n",
      "Epoch 8/100\n",
      "100/100 [==============================] - 41s 405ms/step - loss: 0.3423 - binary_accuracy: 0.8684 - mae: 0.2016 - val_loss: 0.3432 - val_binary_accuracy: 0.8644 - val_mae: 0.2054\n",
      "Epoch 9/100\n",
      "100/100 [==============================] - 40s 398ms/step - loss: 0.3439 - binary_accuracy: 0.8671 - mae: 0.2043 - val_loss: 0.3472 - val_binary_accuracy: 0.8613 - val_mae: 0.1985\n",
      "Epoch 10/100\n",
      "100/100 [==============================] - 39s 388ms/step - loss: 0.3436 - binary_accuracy: 0.8669 - mae: 0.2044 - val_loss: 0.3376 - val_binary_accuracy: 0.8681 - val_mae: 0.1956\n",
      "Epoch 11/100\n",
      "100/100 [==============================] - 38s 382ms/step - loss: 0.3385 - binary_accuracy: 0.8689 - mae: 0.2019 - val_loss: 0.3353 - val_binary_accuracy: 0.8680 - val_mae: 0.1879\n",
      "Epoch 12/100\n",
      "100/100 [==============================] - 39s 387ms/step - loss: 0.3407 - binary_accuracy: 0.8675 - mae: 0.2031 - val_loss: 0.3360 - val_binary_accuracy: 0.8676 - val_mae: 0.2001\n",
      "Epoch 13/100\n",
      "100/100 [==============================] - 38s 381ms/step - loss: 0.3395 - binary_accuracy: 0.8679 - mae: 0.2023 - val_loss: 0.3374 - val_binary_accuracy: 0.8678 - val_mae: 0.1923\n",
      "Epoch 14/100\n",
      "100/100 [==============================] - 37s 373ms/step - loss: 0.3432 - binary_accuracy: 0.8662 - mae: 0.2039 - val_loss: 0.3345 - val_binary_accuracy: 0.8674 - val_mae: 0.2126\n",
      "Epoch 15/100\n",
      "100/100 [==============================] - 37s 369ms/step - loss: 0.3392 - binary_accuracy: 0.8687 - mae: 0.2016 - val_loss: 0.3398 - val_binary_accuracy: 0.8677 - val_mae: 0.2085\n",
      "Epoch 16/100\n",
      "100/100 [==============================] - 37s 367ms/step - loss: 0.3383 - binary_accuracy: 0.8681 - mae: 0.2020 - val_loss: 0.3381 - val_binary_accuracy: 0.8665 - val_mae: 0.1988\n",
      "Epoch 17/100\n",
      "100/100 [==============================] - 36s 364ms/step - loss: 0.3340 - binary_accuracy: 0.8713 - mae: 0.1989 - val_loss: 0.3354 - val_binary_accuracy: 0.8690 - val_mae: 0.1902\n",
      "Epoch 18/100\n",
      "100/100 [==============================] - 36s 364ms/step - loss: 0.3345 - binary_accuracy: 0.8715 - mae: 0.1973 - val_loss: 0.3366 - val_binary_accuracy: 0.8685 - val_mae: 0.1956\n",
      "Epoch 19/100\n",
      "100/100 [==============================] - 37s 369ms/step - loss: 0.3378 - binary_accuracy: 0.8686 - mae: 0.2021 - val_loss: 0.3346 - val_binary_accuracy: 0.8700 - val_mae: 0.1897\n"
     ]
    },
    {
     "data": {
      "text/plain": [
       "<keras.callbacks.History at 0x2409e288fa0>"
      ]
     },
     "execution_count": 22,
     "metadata": {},
     "output_type": "execute_result"
    }
   ],
   "source": [
    "multi_disease_model.fit_generator(train_gen, \n",
    "                                steps_per_epoch = 100,\n",
    "                                validation_data =  (test_X, test_Y), \n",
    "                                epochs = 100, \n",
    "                                callbacks = callbacks_list)"
   ]
  },
  {
   "cell_type": "code",
   "execution_count": 1,
   "metadata": {},
   "outputs": [
    {
     "ename": "NameError",
     "evalue": "name 'multi_disease_model' is not defined",
     "output_type": "error",
     "traceback": [
      "\u001b[1;31m---------------------------------------------------------------------------\u001b[0m",
      "\u001b[1;31mNameError\u001b[0m                                 Traceback (most recent call last)",
      "Cell \u001b[1;32mIn[1], line 2\u001b[0m\n\u001b[0;32m      1\u001b[0m \u001b[38;5;66;03m# load the best weights\u001b[39;00m\n\u001b[1;32m----> 2\u001b[0m \u001b[43mmulti_disease_model\u001b[49m\u001b[38;5;241m.\u001b[39mload_weights(weight_path)\n",
      "\u001b[1;31mNameError\u001b[0m: name 'multi_disease_model' is not defined"
     ]
    }
   ],
   "source": [
    "# load the best weights\n",
    "multi_disease_model.load_weights(weight_path)"
   ]
  },
  {
   "cell_type": "code",
   "execution_count": 24,
   "metadata": {},
   "outputs": [
    {
     "name": "stdout",
     "output_type": "stream",
     "text": [
      "32/32 [==============================] - 0s 14ms/step\n"
     ]
    }
   ],
   "source": [
    "pred_Y = multi_disease_model.predict(test_X, batch_size = 32, verbose = True)"
   ]
  },
  {
   "cell_type": "code",
   "execution_count": 25,
   "metadata": {},
   "outputs": [
    {
     "name": "stdout",
     "output_type": "stream",
     "text": [
      "Atelectasis: Dx: 25.00%, PDx: 35.50%\n",
      "Cardiomegaly: Dx: 5.27%, PDx: 8.53%\n",
      "Consolidation: Dx: 11.91%, PDx: 9.94%\n",
      "Edema: Dx: 4.98%, PDx: 16.93%\n",
      "Effusion: Dx: 30.27%, PDx: 32.91%\n",
      "Emphysema: Dx: 4.69%, PDx: 8.52%\n",
      "Fibrosis: Dx: 3.12%, PDx: 10.40%\n",
      "Infiltration: Dx: 40.04%, PDx: 30.81%\n",
      "Mass: Dx: 11.82%, PDx: 15.05%\n",
      "Nodule: Dx: 14.16%, PDx: 18.83%\n",
      "Pleural_Thickening: Dx: 6.45%, PDx: 13.08%\n",
      "Pneumonia: Dx: 1.76%, PDx: 10.57%\n",
      "Pneumothorax: Dx: 12.99%, PDx: 19.19%\n"
     ]
    }
   ],
   "source": [
    "# look at how often the algorithm predicts certain diagnoses \n",
    "for c_label, p_count, t_count in zip(all_labels, \n",
    "                                    100*np.mean(pred_Y,0), \n",
    "                                    100*np.mean(test_Y,0)):\n",
    "    print('%s: Dx: %2.2f%%, PDx: %2.2f%%' % (c_label, t_count, p_count))"
   ]
  },
  {
   "cell_type": "code",
   "execution_count": 2,
   "metadata": {},
   "outputs": [
    {
     "ename": "NameError",
     "evalue": "name 'plt' is not defined",
     "output_type": "error",
     "traceback": [
      "\u001b[1;31m---------------------------------------------------------------------------\u001b[0m",
      "\u001b[1;31mNameError\u001b[0m                                 Traceback (most recent call last)",
      "Cell \u001b[1;32mIn[2], line 2\u001b[0m\n\u001b[0;32m      1\u001b[0m \u001b[38;5;28;01mfrom\u001b[39;00m \u001b[38;5;21;01msklearn\u001b[39;00m\u001b[38;5;21;01m.\u001b[39;00m\u001b[38;5;21;01mmetrics\u001b[39;00m \u001b[38;5;28;01mimport\u001b[39;00m roc_curve, auc\n\u001b[1;32m----> 2\u001b[0m fig, c_ax \u001b[38;5;241m=\u001b[39m \u001b[43mplt\u001b[49m\u001b[38;5;241m.\u001b[39msubplots(\u001b[38;5;241m1\u001b[39m,\u001b[38;5;241m1\u001b[39m, figsize \u001b[38;5;241m=\u001b[39m (\u001b[38;5;241m9\u001b[39m, \u001b[38;5;241m9\u001b[39m))\n\u001b[0;32m      3\u001b[0m \u001b[38;5;28;01mfor\u001b[39;00m (idx, c_label) \u001b[38;5;129;01min\u001b[39;00m \u001b[38;5;28menumerate\u001b[39m(all_labels):\n\u001b[0;32m      4\u001b[0m     fpr, tpr, thresholds \u001b[38;5;241m=\u001b[39m roc_curve(test_Y[:,idx]\u001b[38;5;241m.\u001b[39mastype(\u001b[38;5;28mint\u001b[39m), pred_Y[:,idx])\n",
      "\u001b[1;31mNameError\u001b[0m: name 'plt' is not defined"
     ]
    }
   ],
   "source": [
    "from sklearn.metrics import roc_curve, auc\n",
    "fig, c_ax = plt.subplots(1,1, figsize = (9, 9))\n",
    "for (idx, c_label) in enumerate(all_labels):\n",
    "    fpr, tpr, thresholds = roc_curve(test_Y[:,idx].astype(int), pred_Y[:,idx])\n",
    "    c_ax.plot(fpr, tpr, label = '%s (AUC:%0.2f)'  % (c_label, auc(fpr, tpr)))\n",
    "c_ax.legend()\n",
    "c_ax.set_xlabel('False Positive Rate')\n",
    "c_ax.set_ylabel('True Positive Rate')\n",
    "fig.savefig('trained_net.png')"
   ]
  },
  {
   "cell_type": "code",
   "execution_count": 27,
   "metadata": {},
   "outputs": [],
   "source": [
    "sickest_idx = np.argsort(np.sum(test_Y, 1)<1)\n",
    "fig, m_axs = plt.subplots(4, 2, figsize = (16, 32))\n",
    "for (idx, c_ax) in zip(sickest_idx, m_axs.flatten()):\n",
    "    c_ax.imshow(test_X[idx, :,:,0], cmap = 'bone')\n",
    "    stat_str = [n_class[:6] for n_class, n_score in zip(all_labels, \n",
    "                                                                  test_Y[idx]) \n",
    "                            if n_score>0.5]\n",
    "    pred_str = ['%s:%2.0f%%' % (n_class[:4], p_score*100)  for n_class, n_score, p_score in zip(all_labels, \n",
    "                                                                  test_Y[idx], pred_Y[idx]) \n",
    "                            if (n_score>0.5) or (p_score>0.5)]\n",
    "    c_ax.set_title('Dx: '+', '.join(stat_str)+'\\nPDx: '+', '.join(pred_str))\n",
    "    c_ax.axis('off')\n",
    "fig.savefig('trained_img_predictions.png')"
   ]
  }
 ],
 "metadata": {
  "kernelspec": {
   "display_name": "CVPR",
   "language": "python",
   "name": "python3"
  },
  "language_info": {
   "codemirror_mode": {
    "name": "ipython",
    "version": 3
   },
   "file_extension": ".py",
   "mimetype": "text/x-python",
   "name": "python",
   "nbconvert_exporter": "python",
   "pygments_lexer": "ipython3",
   "version": "3.10.14"
  }
 },
 "nbformat": 4,
 "nbformat_minor": 2
}
