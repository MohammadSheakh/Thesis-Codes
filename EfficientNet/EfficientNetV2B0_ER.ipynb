{
 "cells": [
  {
   "cell_type": "code",
   "execution_count": 1,
   "id": "46acbdf7",
   "metadata": {},
   "outputs": [],
   "source": [
    "import pandas as pd\n",
    "import numpy as np\n",
    "import os\n",
    "import matplotlib.pyplot as plt\n",
    "from sklearn.model_selection import train_test_split\n",
    "from tensorflow.keras.preprocessing.image import ImageDataGenerator\n",
    "from tensorflow.keras.applications import EfficientNetV2B0\n",
    "from tensorflow.keras.models import Model\n",
    "from tensorflow.keras.layers import Dense, GlobalAveragePooling2D, Dropout\n",
    "from tensorflow.keras.optimizers import Adam\n",
    "from tensorflow.keras.callbacks import ReduceLROnPlateau, EarlyStopping\n",
    "from sklearn.metrics import classification_report\n"
   ]
  },
  {
   "cell_type": "code",
   "execution_count": 2,
   "id": "de645df4",
   "metadata": {},
   "outputs": [],
   "source": [
    "\n",
    "# Paths to the dataset\n",
    "labeled_images_folder = 'D:/New CX/CXR8/images/Dest'  # Adjust this to the actual folder where your images are stored\n",
    "labels_csv = 'D:/New CX/CXR8/Data_Entry_2017_v2020.csv'  # Path to the CSV file containing labels\n",
    "\n",
    "# Load the labels CSV file\n",
    "df = pd.read_csv(labels_csv)\n"
   ]
  },
  {
   "cell_type": "code",
   "execution_count": 3,
   "id": "0354f479",
   "metadata": {},
   "outputs": [],
   "source": [
    "# Filter the dataframe for the diseases of interest\n",
    "diseases = ['Atelectasis', 'Cardiomegaly', 'Effusion', 'Infiltration', 'Mass', 'Nodule',\n",
    "            'Pneumonia', 'Pneumothorax', 'Consolidation', 'Edema', 'Emphysema', 'Fibrosis',\n",
    "            'Hernia', 'Pleural_Thickening', 'No Finding']\n",
    "\n",
    "# Create a new column for single-label classification\n",
    "df['Finding Labels'] = df['Finding Labels'].apply(lambda x: x.split('|')[0] if '|' in x else x)\n",
    "\n",
    "# Filter for the diseases of interest\n",
    "df = df[df['Finding Labels'].isin(diseases)]\n"
   ]
  },
  {
   "cell_type": "code",
   "execution_count": 4,
   "id": "a01ca1b3",
   "metadata": {},
   "outputs": [],
   "source": [
    "# Split the dataset into training, validation, and test sets\n",
    "train_df, temp_df = train_test_split(df, test_size=0.3, stratify=df['Finding Labels'], random_state=42)\n",
    "val_df, test_df = train_test_split(temp_df, test_size=0.67, stratify=temp_df['Finding Labels'], random_state=42)\n",
    "\n",
    "# Data generators with augmentation for training, validation, and testing\n",
    "train_datagen = ImageDataGenerator(\n",
    "    rescale=1./255,\n",
    "    shear_range=0.2,\n",
    "    zoom_range=0.2,\n",
    "    horizontal_flip=True,\n",
    "    rotation_range=20,\n",
    "    width_shift_range=0.2,\n",
    "    height_shift_range=0.2,\n",
    "    brightness_range=[0.8, 1.2]\n",
    ")\n",
    "\n",
    "val_datagen = ImageDataGenerator(rescale=1./255)\n",
    "test_datagen = ImageDataGenerator(rescale=1./255)"
   ]
  },
  {
   "cell_type": "code",
   "execution_count": 5,
   "id": "90542d3e",
   "metadata": {},
   "outputs": [
    {
     "name": "stdout",
     "output_type": "stream",
     "text": [
      "Found 78484 validated image filenames belonging to 15 classes.\n",
      "Found 11099 validated image filenames belonging to 15 classes.\n",
      "Found 22537 validated image filenames belonging to 15 classes.\n"
     ]
    }
   ],
   "source": [
    "\n",
    "# Flow from dataframe for training, validation, and testing generators\n",
    "train_generator = train_datagen.flow_from_dataframe(\n",
    "    dataframe=train_df,\n",
    "    directory=labeled_images_folder,\n",
    "    x_col='Image Index',\n",
    "    y_col='Finding Labels',\n",
    "    target_size=(192, 192),\n",
    "    batch_size=32,\n",
    "    class_mode='categorical'\n",
    ")\n",
    "\n",
    "validation_generator = val_datagen.flow_from_dataframe(\n",
    "    dataframe=val_df,\n",
    "    directory=labeled_images_folder,\n",
    "    x_col='Image Index',\n",
    "    y_col='Finding Labels',\n",
    "    target_size=(192, 192),\n",
    "    batch_size=32,\n",
    "    class_mode='categorical'\n",
    ")\n",
    "\n",
    "test_generator = test_datagen.flow_from_dataframe(\n",
    "    dataframe=test_df,\n",
    "    directory=labeled_images_folder,\n",
    "    x_col='Image Index',\n",
    "    y_col='Finding Labels',\n",
    "    target_size=(192, 192),\n",
    "    batch_size=32,\n",
    "    class_mode='categorical',\n",
    "    shuffle=False  # Important to keep the order for evaluation\n",
    ")"
   ]
  },
  {
   "cell_type": "code",
   "execution_count": 6,
   "id": "b32169c1",
   "metadata": {},
   "outputs": [
    {
     "name": "stdout",
     "output_type": "stream",
     "text": [
      "Downloading data from https://storage.googleapis.com/tensorflow/keras-applications/efficientnet_v2/efficientnetv2-b0_notop.h5\n",
      "24274472/24274472 [==============================] - 4s 0us/step\n"
     ]
    }
   ],
   "source": [
    "# Load pre-trained EfficientNetV2B0\n",
    "base_model = EfficientNetV2B0(weights='imagenet', include_top=False, input_shape=(192, 192, 3))\n",
    "\n",
    "# Unfreeze some layers in the base model for fine-tuning\n",
    "for layer in base_model.layers[-30:]:\n",
    "    layer.trainable = True\n",
    "\n",
    "# Add custom layers on top of the base model\n",
    "x = base_model.output\n",
    "x = GlobalAveragePooling2D()(x)\n",
    "x = Dropout(0.5)(x)  # Adding dropout for regularization\n",
    "x = Dense(256, activation='relu')(x)\n",
    "x = Dropout(0.5)(x)  # Adding another dropout layer\n",
    "predictions = Dense(len(diseases), activation='softmax')(x)\n",
    "\n",
    "# Define the model\n",
    "model = Model(inputs=base_model.input, outputs=predictions)\n",
    "\n",
    "# Compile the model using Adam optimizer\n",
    "model.compile(optimizer=Adam(learning_rate=0.0001), loss='categorical_crossentropy', metrics=['accuracy'])\n",
    "\n",
    "# Learning rate reduction and early stopping callbacks\n",
    "reduce_lr = ReduceLROnPlateau(monitor='val_loss', factor=0.1, patience=3, min_lr=0.00001, verbose=1)\n",
    "early_stopping = EarlyStopping(monitor='val_loss', patience=7, restore_best_weights=True)\n"
   ]
  },
  {
   "cell_type": "code",
   "execution_count": 7,
   "id": "1b67ec20",
   "metadata": {},
   "outputs": [
    {
     "name": "stdout",
     "output_type": "stream",
     "text": [
      "Epoch 1/50\n",
      "2453/2453 [==============================] - 2010s 814ms/step - loss: 1.6940 - accuracy: 0.5325 - val_loss: 1.7577 - val_accuracy: 0.5385 - lr: 1.0000e-04\n",
      "Epoch 2/50\n",
      "2453/2453 [==============================] - 1966s 802ms/step - loss: 1.5744 - accuracy: 0.5416 - val_loss: 1.7190 - val_accuracy: 0.5383 - lr: 1.0000e-04\n",
      "Epoch 3/50\n",
      "2453/2453 [==============================] - 1969s 803ms/step - loss: 1.5184 - accuracy: 0.5470 - val_loss: 1.7310 - val_accuracy: 0.5383 - lr: 1.0000e-04\n",
      "Epoch 4/50\n",
      "2453/2453 [==============================] - 1969s 803ms/step - loss: 1.4870 - accuracy: 0.5522 - val_loss: 1.5992 - val_accuracy: 0.5424 - lr: 1.0000e-04\n",
      "Epoch 5/50\n",
      "2453/2453 [==============================] - 1972s 804ms/step - loss: 1.4600 - accuracy: 0.5547 - val_loss: 1.7094 - val_accuracy: 0.5383 - lr: 1.0000e-04\n",
      "Epoch 6/50\n",
      "2453/2453 [==============================] - 1972s 804ms/step - loss: 1.4432 - accuracy: 0.5578 - val_loss: 1.6092 - val_accuracy: 0.5442 - lr: 1.0000e-04\n",
      "Epoch 7/50\n",
      "2453/2453 [==============================] - ETA: 0s - loss: 1.4290 - accuracy: 0.5597\n",
      "Epoch 7: ReduceLROnPlateau reducing learning rate to 1e-05.\n",
      "2453/2453 [==============================] - 1972s 804ms/step - loss: 1.4290 - accuracy: 0.5597 - val_loss: 1.6462 - val_accuracy: 0.5415 - lr: 1.0000e-04\n",
      "Epoch 8/50\n",
      "2453/2453 [==============================] - 1975s 805ms/step - loss: 1.3993 - accuracy: 0.5651 - val_loss: 1.3826 - val_accuracy: 0.5689 - lr: 1.0000e-05\n",
      "Epoch 9/50\n",
      "2453/2453 [==============================] - 1977s 806ms/step - loss: 1.3906 - accuracy: 0.5667 - val_loss: 1.3918 - val_accuracy: 0.5657 - lr: 1.0000e-05\n",
      "Epoch 10/50\n",
      "2453/2453 [==============================] - 1976s 805ms/step - loss: 1.3885 - accuracy: 0.5658 - val_loss: 1.4033 - val_accuracy: 0.5653 - lr: 1.0000e-05\n",
      "Epoch 11/50\n",
      "2453/2453 [==============================] - 1978s 806ms/step - loss: 1.3839 - accuracy: 0.5664 - val_loss: 1.4077 - val_accuracy: 0.5642 - lr: 1.0000e-05\n",
      "Epoch 12/50\n",
      "2453/2453 [==============================] - 1981s 808ms/step - loss: 1.3780 - accuracy: 0.5682 - val_loss: 1.4216 - val_accuracy: 0.5632 - lr: 1.0000e-05\n",
      "Epoch 13/50\n",
      "2453/2453 [==============================] - 1983s 808ms/step - loss: 1.3759 - accuracy: 0.5680 - val_loss: 1.4142 - val_accuracy: 0.5653 - lr: 1.0000e-05\n",
      "Epoch 14/50\n",
      "2453/2453 [==============================] - 1985s 809ms/step - loss: 1.3727 - accuracy: 0.5698 - val_loss: 1.3940 - val_accuracy: 0.5670 - lr: 1.0000e-05\n",
      "Epoch 15/50\n",
      "2453/2453 [==============================] - 1992s 812ms/step - loss: 1.3690 - accuracy: 0.5702 - val_loss: 1.3746 - val_accuracy: 0.5693 - lr: 1.0000e-05\n",
      "Epoch 16/50\n",
      "2453/2453 [==============================] - 1994s 813ms/step - loss: 1.3696 - accuracy: 0.5703 - val_loss: 1.4057 - val_accuracy: 0.5668 - lr: 1.0000e-05\n",
      "Epoch 17/50\n",
      "2453/2453 [==============================] - 1997s 814ms/step - loss: 1.3661 - accuracy: 0.5715 - val_loss: 1.4118 - val_accuracy: 0.5657 - lr: 1.0000e-05\n",
      "Epoch 18/50\n",
      "2453/2453 [==============================] - 1992s 812ms/step - loss: 1.3671 - accuracy: 0.5701 - val_loss: 1.4361 - val_accuracy: 0.5608 - lr: 1.0000e-05\n",
      "Epoch 19/50\n",
      "2453/2453 [==============================] - 2001s 816ms/step - loss: 1.3599 - accuracy: 0.5720 - val_loss: 1.3829 - val_accuracy: 0.5674 - lr: 1.0000e-05\n",
      "Epoch 20/50\n",
      "2453/2453 [==============================] - 1994s 813ms/step - loss: 1.3605 - accuracy: 0.5725 - val_loss: 1.3754 - val_accuracy: 0.5662 - lr: 1.0000e-05\n",
      "Epoch 21/50\n",
      "2453/2453 [==============================] - 2031s 828ms/step - loss: 1.3566 - accuracy: 0.5716 - val_loss: 1.4340 - val_accuracy: 0.5621 - lr: 1.0000e-05\n",
      "Epoch 22/50\n",
      "2453/2453 [==============================] - 1974s 805ms/step - loss: 1.3530 - accuracy: 0.5723 - val_loss: 1.3727 - val_accuracy: 0.5665 - lr: 1.0000e-05\n",
      "Epoch 23/50\n",
      "2453/2453 [==============================] - 1946s 793ms/step - loss: 1.3523 - accuracy: 0.5740 - val_loss: 1.4080 - val_accuracy: 0.5642 - lr: 1.0000e-05\n",
      "Epoch 24/50\n",
      "2453/2453 [==============================] - 1947s 794ms/step - loss: 1.3486 - accuracy: 0.5750 - val_loss: 1.3853 - val_accuracy: 0.5692 - lr: 1.0000e-05\n",
      "Epoch 25/50\n",
      "2453/2453 [==============================] - 1944s 792ms/step - loss: 1.3460 - accuracy: 0.5755 - val_loss: 1.3703 - val_accuracy: 0.5682 - lr: 1.0000e-05\n",
      "Epoch 26/50\n",
      "2453/2453 [==============================] - 1948s 794ms/step - loss: 1.3449 - accuracy: 0.5740 - val_loss: 1.3862 - val_accuracy: 0.5679 - lr: 1.0000e-05\n",
      "Epoch 27/50\n"
     ]
    }
   ],
   "source": [
    "\n",
    "# Train the model with increased epochs and callbacks\n",
    "history = model.fit(\n",
    "    train_generator,\n",
    "    steps_per_epoch=len(train_generator),\n",
    "    epochs=50,\n",
    "    validation_data=validation_generator,\n",
    "    validation_steps=len(validation_generator),\n",
    "    callbacks=[reduce_lr, early_stopping]\n",
    ")"
   ]
  },
  {
   "cell_type": "code",
   "execution_count": null,
   "id": "e0717fef",
   "metadata": {},
   "outputs": [],
   "source": [
    "# Evaluate the model on the test set\n",
    "test_loss, test_acc = model.evaluate(test_generator)\n",
    "print(f\"Test Accuracy: {test_acc}\")"
   ]
  },
  {
   "cell_type": "code",
   "execution_count": null,
   "id": "d36392aa",
   "metadata": {},
   "outputs": [],
   "source": [
    "\n",
    "# Predict on the test set\n",
    "test_generator.reset()\n",
    "predictions = model.predict(test_generator)\n",
    "true_labels = test_generator.classes\n",
    "predicted_labels = np.argmax(predictions, axis=1)\n",
    "class_labels = list(test_generator.class_indices.keys())\n",
    "true_labels = [class_labels[i] for i in true_labels]\n",
    "predicted_labels = [class_labels[i] for i in predicted_labels]"
   ]
  },
  {
   "cell_type": "code",
   "execution_count": null,
   "id": "3f5e477e",
   "metadata": {},
   "outputs": [],
   "source": [
    "\n",
    "# Print a classification report\n",
    "print(classification_report(true_labels, predicted_labels, target_names=class_labels))\n"
   ]
  },
  {
   "cell_type": "code",
   "execution_count": null,
   "id": "36f2c48f",
   "metadata": {},
   "outputs": [],
   "source": [
    "# Plot training & validation accuracy values\n",
    "plt.figure(figsize=(12, 6))\n",
    "plt.subplot(1, 2, 1)\n",
    "plt.plot(history.history['accuracy'])\n",
    "plt.plot(history.history['val_accuracy'])\n",
    "plt.title('Model accuracy')\n",
    "plt.ylabel('Accuracy')\n",
    "plt.xlabel('Epoch')\n",
    "plt.legend(['Train', 'Validation'], loc='upper left')\n",
    "\n",
    "# Plot training & validation loss values\n",
    "plt.subplot(1, 2, 2)\n",
    "plt.plot(history.history['loss'])\n",
    "plt.plot(history.history['val_loss'])\n",
    "plt.title('Model loss')\n",
    "plt.ylabel('Loss')\n",
    "plt.xlabel('Epoch')\n",
    "plt.legend(['Train', 'Validation'], loc='upper left')\n",
    "\n",
    "plt.show()"
   ]
  }
 ],
 "metadata": {
  "kernelspec": {
   "display_name": "Python 3 (ipykernel)",
   "language": "python",
   "name": "python3"
  },
  "language_info": {
   "codemirror_mode": {
    "name": "ipython",
    "version": 3
   },
   "file_extension": ".py",
   "mimetype": "text/x-python",
   "name": "python",
   "nbconvert_exporter": "python",
   "pygments_lexer": "ipython3",
   "version": "3.10.14"
  }
 },
 "nbformat": 4,
 "nbformat_minor": 5
}
