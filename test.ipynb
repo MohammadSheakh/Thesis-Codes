{
 "cells": [
  {
   "cell_type": "code",
   "execution_count": 1,
   "metadata": {},
   "outputs": [
    {
     "name": "stdout",
     "output_type": "stream",
     "text": [
      "Python 3.10.14 | packaged by Anaconda, Inc. | (main, May  6 2024, 19:44:50) [MSC v.1916 64 bit (AMD64)]\n",
      "\n",
      "Tensorflow version: 2.10.1\n",
      "Keras Version: 2.10.0\n",
      "\n",
      "Pandas: 2.2.1\n",
      "Scikit-Learn: 1.4.2\n",
      "Numpy: 1.26.4\n",
      "Matplotlib: 3.8.4\n",
      "\n",
      "GPU is  available\n",
      "CUDA: True\n"
     ]
    }
   ],
   "source": [
    "import sys\n",
    "import tensorflow as tf\n",
    "import pandas as pd\n",
    "import sklearn as sk\n",
    "import numpy as np\n",
    "import matplotlib\n",
    "\n",
    "\n",
    "print(f\"Python {sys.version}\")\n",
    "print()\n",
    "print(f\"Tensorflow version: {tf.__version__}\")\n",
    "print(f\"Keras Version: {tf.keras.__version__}\")\n",
    "print()\n",
    "print(f\"Pandas: {pd.__version__}\")\n",
    "print(f\"Scikit-Learn: {sk.__version__}\")\n",
    "print(f\"Numpy: {np.__version__}\")\n",
    "print(f\"Matplotlib: {matplotlib.__version__}\")\n",
    "print()\n",
    "print(\"GPU is \", \"available\" if tf.config.list_physical_devices('GPU') else \"not available\")\n",
    "print(f\"CUDA: {tf.test.is_built_with_cuda()}\")"
   ]
  },
  {
   "cell_type": "code",
   "execution_count": 2,
   "metadata": {},
   "outputs": [
    {
     "name": "stdout",
     "output_type": "stream",
     "text": [
      "hello o\n"
     ]
    }
   ],
   "source": [
    "print(\"hello o\")"
   ]
  }
 ],
 "metadata": {
  "kernelspec": {
   "display_name": "sheakh310",
   "language": "python",
   "name": "python3"
  },
  "language_info": {
   "codemirror_mode": {
    "name": "ipython",
    "version": 3
   },
   "file_extension": ".py",
   "mimetype": "text/x-python",
   "name": "python",
   "nbconvert_exporter": "python",
   "pygments_lexer": "ipython3",
   "version": "3.10.14"
  }
 },
 "nbformat": 4,
 "nbformat_minor": 4
}
